{
 "cells": [
  {
   "cell_type": "code",
   "execution_count": 599,
   "metadata": {},
   "outputs": [],
   "source": [
    "import numpy as np\n",
    "import pandas as pd\n",
    "import seaborn as sns\n",
    "import matplotlib.pyplot as plt\n",
    "%matplotlib inline\n",
    "\n",
    "from scipy import stats\n",
    "\n",
    "from sklearn.impute import SimpleImputer\n",
    "from sklearn.preprocessing import LabelEncoder, OneHotEncoder\n",
    "from sklearn.compose import make_column_transformer, ColumnTransformer\n",
    "\n",
    "from sklearn.model_selection import train_test_split, cross_val_score\n",
    "from sklearn.linear_model import LinearRegression, LogisticRegression, Ridge, Lasso, SGDRegressor\n",
    "from sklearn.ensemble import RandomForestRegressor\n",
    "from sklearn.neighbors import KNeighborsRegressor\n",
    "from sklearn.tree import DecisionTreeRegressor\n",
    "from sklearn.svm import SVR, LinearSVR\n"
   ]
  },
  {
   "cell_type": "code",
   "execution_count": 600,
   "metadata": {},
   "outputs": [],
   "source": [
    "data = pd.read_csv('/home/hasan/Desktop/DATA_SET/BigMart-Sales/big-mart-sales.csv')"
   ]
  },
  {
   "cell_type": "code",
   "execution_count": 601,
   "metadata": {},
   "outputs": [
    {
     "data": {
      "text/html": [
       "<div>\n",
       "<style scoped>\n",
       "    .dataframe tbody tr th:only-of-type {\n",
       "        vertical-align: middle;\n",
       "    }\n",
       "\n",
       "    .dataframe tbody tr th {\n",
       "        vertical-align: top;\n",
       "    }\n",
       "\n",
       "    .dataframe thead th {\n",
       "        text-align: right;\n",
       "    }\n",
       "</style>\n",
       "<table border=\"1\" class=\"dataframe\">\n",
       "  <thead>\n",
       "    <tr style=\"text-align: right;\">\n",
       "      <th></th>\n",
       "      <th>Item_Identifier</th>\n",
       "      <th>Item_Weight</th>\n",
       "      <th>Item_Fat_Content</th>\n",
       "      <th>Item_Visibility</th>\n",
       "      <th>Item_Type</th>\n",
       "      <th>Item_MRP</th>\n",
       "      <th>Outlet_Identifier</th>\n",
       "      <th>Outlet_Establishment_Year</th>\n",
       "      <th>Outlet_Size</th>\n",
       "      <th>Outlet_Location_Type</th>\n",
       "      <th>Outlet_Type</th>\n",
       "      <th>Item_Outlet_Sales</th>\n",
       "    </tr>\n",
       "  </thead>\n",
       "  <tbody>\n",
       "    <tr>\n",
       "      <th>0</th>\n",
       "      <td>FDA15</td>\n",
       "      <td>9.300000</td>\n",
       "      <td>Low Fat</td>\n",
       "      <td>0.016047</td>\n",
       "      <td>Dairy</td>\n",
       "      <td>249.809200</td>\n",
       "      <td>OUT049</td>\n",
       "      <td>1999</td>\n",
       "      <td>Medium</td>\n",
       "      <td>Tier 1</td>\n",
       "      <td>Supermarket Type1</td>\n",
       "      <td>3735.138000</td>\n",
       "    </tr>\n",
       "    <tr>\n",
       "      <th>1</th>\n",
       "      <td>DRC01</td>\n",
       "      <td>5.920000</td>\n",
       "      <td>Regular</td>\n",
       "      <td>0.019278</td>\n",
       "      <td>Soft Drinks</td>\n",
       "      <td>48.269200</td>\n",
       "      <td>OUT018</td>\n",
       "      <td>2009</td>\n",
       "      <td>Medium</td>\n",
       "      <td>Tier 3</td>\n",
       "      <td>Supermarket Type2</td>\n",
       "      <td>443.422800</td>\n",
       "    </tr>\n",
       "    <tr>\n",
       "      <th>2</th>\n",
       "      <td>FDN15</td>\n",
       "      <td>17.500000</td>\n",
       "      <td>Low Fat</td>\n",
       "      <td>0.016760</td>\n",
       "      <td>Meat</td>\n",
       "      <td>141.618000</td>\n",
       "      <td>OUT049</td>\n",
       "      <td>1999</td>\n",
       "      <td>Medium</td>\n",
       "      <td>Tier 1</td>\n",
       "      <td>Supermarket Type1</td>\n",
       "      <td>2097.270000</td>\n",
       "    </tr>\n",
       "    <tr>\n",
       "      <th>3</th>\n",
       "      <td>FDX07</td>\n",
       "      <td>19.200000</td>\n",
       "      <td>Regular</td>\n",
       "      <td>0.000000</td>\n",
       "      <td>Fruits and Vegetables</td>\n",
       "      <td>182.095000</td>\n",
       "      <td>OUT010</td>\n",
       "      <td>1998</td>\n",
       "      <td>NaN</td>\n",
       "      <td>Tier 3</td>\n",
       "      <td>Grocery Store</td>\n",
       "      <td>732.380000</td>\n",
       "    </tr>\n",
       "    <tr>\n",
       "      <th>4</th>\n",
       "      <td>NCD19</td>\n",
       "      <td>8.930000</td>\n",
       "      <td>Low Fat</td>\n",
       "      <td>0.000000</td>\n",
       "      <td>Household</td>\n",
       "      <td>53.861400</td>\n",
       "      <td>OUT013</td>\n",
       "      <td>1987</td>\n",
       "      <td>High</td>\n",
       "      <td>Tier 3</td>\n",
       "      <td>Supermarket Type1</td>\n",
       "      <td>994.705200</td>\n",
       "    </tr>\n",
       "  </tbody>\n",
       "</table>\n",
       "</div>"
      ],
      "text/plain": [
       "  Item_Identifier  Item_Weight Item_Fat_Content  Item_Visibility  \\\n",
       "0           FDA15     9.300000          Low Fat         0.016047   \n",
       "1           DRC01     5.920000          Regular         0.019278   \n",
       "2           FDN15    17.500000          Low Fat         0.016760   \n",
       "3           FDX07    19.200000          Regular         0.000000   \n",
       "4           NCD19     8.930000          Low Fat         0.000000   \n",
       "\n",
       "               Item_Type   Item_MRP Outlet_Identifier  \\\n",
       "0                  Dairy 249.809200            OUT049   \n",
       "1            Soft Drinks  48.269200            OUT018   \n",
       "2                   Meat 141.618000            OUT049   \n",
       "3  Fruits and Vegetables 182.095000            OUT010   \n",
       "4              Household  53.861400            OUT013   \n",
       "\n",
       "   Outlet_Establishment_Year Outlet_Size Outlet_Location_Type  \\\n",
       "0                       1999      Medium               Tier 1   \n",
       "1                       2009      Medium               Tier 3   \n",
       "2                       1999      Medium               Tier 1   \n",
       "3                       1998         NaN               Tier 3   \n",
       "4                       1987        High               Tier 3   \n",
       "\n",
       "         Outlet_Type  Item_Outlet_Sales  \n",
       "0  Supermarket Type1        3735.138000  \n",
       "1  Supermarket Type2         443.422800  \n",
       "2  Supermarket Type1        2097.270000  \n",
       "3      Grocery Store         732.380000  \n",
       "4  Supermarket Type1         994.705200  "
      ]
     },
     "execution_count": 601,
     "metadata": {},
     "output_type": "execute_result"
    }
   ],
   "source": [
    "data.head()"
   ]
  },
  {
   "cell_type": "code",
   "execution_count": 602,
   "metadata": {},
   "outputs": [
    {
     "data": {
      "text/plain": [
       "(8523, 12)"
      ]
     },
     "execution_count": 602,
     "metadata": {},
     "output_type": "execute_result"
    }
   ],
   "source": [
    "data.shape"
   ]
  },
  {
   "cell_type": "code",
   "execution_count": null,
   "metadata": {},
   "outputs": [],
   "source": []
  },
  {
   "cell_type": "markdown",
   "metadata": {},
   "source": [
    "# Data Cleaning"
   ]
  },
  {
   "cell_type": "code",
   "execution_count": 603,
   "metadata": {},
   "outputs": [
    {
     "data": {
      "text/plain": [
       "Item_Identifier               object\n",
       "Item_Weight                  float64\n",
       "Item_Fat_Content              object\n",
       "Item_Visibility              float64\n",
       "Item_Type                     object\n",
       "Item_MRP                     float64\n",
       "Outlet_Identifier             object\n",
       "Outlet_Establishment_Year      int64\n",
       "Outlet_Size                   object\n",
       "Outlet_Location_Type          object\n",
       "Outlet_Type                   object\n",
       "Item_Outlet_Sales            float64\n",
       "dtype: object"
      ]
     },
     "execution_count": 603,
     "metadata": {},
     "output_type": "execute_result"
    }
   ],
   "source": [
    "data.dtypes"
   ]
  },
  {
   "cell_type": "code",
   "execution_count": null,
   "metadata": {},
   "outputs": [],
   "source": []
  },
  {
   "cell_type": "code",
   "execution_count": 604,
   "metadata": {},
   "outputs": [
    {
     "data": {
      "text/plain": [
       "Item_Identifier                 0\n",
       "Item_Weight                  1463\n",
       "Item_Fat_Content                0\n",
       "Item_Visibility                 0\n",
       "Item_Type                       0\n",
       "Item_MRP                        0\n",
       "Outlet_Identifier               0\n",
       "Outlet_Establishment_Year       0\n",
       "Outlet_Size                  2410\n",
       "Outlet_Location_Type            0\n",
       "Outlet_Type                     0\n",
       "Item_Outlet_Sales               0\n",
       "dtype: int64"
      ]
     },
     "execution_count": 604,
     "metadata": {},
     "output_type": "execute_result"
    }
   ],
   "source": [
    "#checking null value\n",
    "data.isnull().sum()"
   ]
  },
  {
   "cell_type": "code",
   "execution_count": null,
   "metadata": {},
   "outputs": [],
   "source": []
  },
  {
   "cell_type": "code",
   "execution_count": 605,
   "metadata": {},
   "outputs": [],
   "source": [
    "#filling null value with mean value using SimpleImputer\n",
    "si = SimpleImputer(missing_values=np.nan, strategy='mean')\n",
    "imputer = si.fit(data[['Item_Weight']])\n",
    "data['Item_Weight'] = imputer.transform(data[['Item_Weight']])"
   ]
  },
  {
   "cell_type": "code",
   "execution_count": null,
   "metadata": {},
   "outputs": [],
   "source": []
  },
  {
   "cell_type": "code",
   "execution_count": 606,
   "metadata": {},
   "outputs": [],
   "source": [
    "#filling null value of 'Outlet_Size' column using fillna function\n",
    "data.fillna(method='ffill', inplace=True)"
   ]
  },
  {
   "cell_type": "code",
   "execution_count": null,
   "metadata": {},
   "outputs": [],
   "source": []
  },
  {
   "cell_type": "code",
   "execution_count": 607,
   "metadata": {},
   "outputs": [],
   "source": [
    "#shuffle dataset\n",
    "data = data.sample(frac=1).reset_index(drop=True)"
   ]
  },
  {
   "cell_type": "code",
   "execution_count": null,
   "metadata": {},
   "outputs": [],
   "source": []
  },
  {
   "cell_type": "code",
   "execution_count": 608,
   "metadata": {},
   "outputs": [
    {
     "data": {
      "text/plain": [
       "array(['Regular', 'Low Fat', 'LF', 'reg', 'low fat'], dtype=object)"
      ]
     },
     "execution_count": 608,
     "metadata": {},
     "output_type": "execute_result"
    }
   ],
   "source": [
    "#fixing 'Item_Fat_Content' column\n",
    "data['Item_Fat_Content'].unique()"
   ]
  },
  {
   "cell_type": "code",
   "execution_count": 609,
   "metadata": {},
   "outputs": [],
   "source": [
    "data['Item_Fat_Content'] = data['Item_Fat_Content'].str.replace('low fat','Low Fat')\n",
    "data['Item_Fat_Content'] = data['Item_Fat_Content'].str.replace('LF','Low Fat')\n",
    "data['Item_Fat_Content'] = data['Item_Fat_Content'].str.replace('reg','Regular')"
   ]
  },
  {
   "cell_type": "code",
   "execution_count": 610,
   "metadata": {},
   "outputs": [
    {
     "data": {
      "text/plain": [
       "array(['Regular', 'Low Fat'], dtype=object)"
      ]
     },
     "execution_count": 610,
     "metadata": {},
     "output_type": "execute_result"
    }
   ],
   "source": [
    "data['Item_Fat_Content'].unique()"
   ]
  },
  {
   "cell_type": "code",
   "execution_count": null,
   "metadata": {},
   "outputs": [],
   "source": []
  },
  {
   "cell_type": "code",
   "execution_count": 611,
   "metadata": {},
   "outputs": [
    {
     "data": {
      "text/plain": [
       "array(['Supermarket Type1', 'Grocery Store', 'Supermarket Type2',\n",
       "       'Supermarket Type3'], dtype=object)"
      ]
     },
     "execution_count": 611,
     "metadata": {},
     "output_type": "execute_result"
    }
   ],
   "source": [
    "#fixing 'Outlet_Type' column\n",
    "data['Outlet_Type'].unique()"
   ]
  },
  {
   "cell_type": "code",
   "execution_count": 612,
   "metadata": {},
   "outputs": [],
   "source": [
    "data['Outlet_Type'] = data['Outlet_Type'].str.replace('Supermarket Type1', 'Supermarket')\n",
    "data['Outlet_Type'] = data['Outlet_Type'].str.replace('Supermarket Type2', 'Supermarket')\n",
    "data['Outlet_Type'] = data['Outlet_Type'].str.replace('Supermarket Type3', 'Supermarket')"
   ]
  },
  {
   "cell_type": "code",
   "execution_count": 613,
   "metadata": {},
   "outputs": [
    {
     "data": {
      "text/plain": [
       "array(['Supermarket', 'Grocery Store'], dtype=object)"
      ]
     },
     "execution_count": 613,
     "metadata": {},
     "output_type": "execute_result"
    }
   ],
   "source": [
    "data['Outlet_Type'].unique()"
   ]
  },
  {
   "cell_type": "code",
   "execution_count": null,
   "metadata": {},
   "outputs": [],
   "source": []
  },
  {
   "cell_type": "markdown",
   "metadata": {},
   "source": [
    "# After cleaning dataset"
   ]
  },
  {
   "cell_type": "code",
   "execution_count": 614,
   "metadata": {},
   "outputs": [
    {
     "data": {
      "text/html": [
       "<div>\n",
       "<style scoped>\n",
       "    .dataframe tbody tr th:only-of-type {\n",
       "        vertical-align: middle;\n",
       "    }\n",
       "\n",
       "    .dataframe tbody tr th {\n",
       "        vertical-align: top;\n",
       "    }\n",
       "\n",
       "    .dataframe thead th {\n",
       "        text-align: right;\n",
       "    }\n",
       "</style>\n",
       "<table border=\"1\" class=\"dataframe\">\n",
       "  <thead>\n",
       "    <tr style=\"text-align: right;\">\n",
       "      <th></th>\n",
       "      <th>Item_Identifier</th>\n",
       "      <th>Item_Weight</th>\n",
       "      <th>Item_Fat_Content</th>\n",
       "      <th>Item_Visibility</th>\n",
       "      <th>Item_Type</th>\n",
       "      <th>Item_MRP</th>\n",
       "      <th>Outlet_Identifier</th>\n",
       "      <th>Outlet_Establishment_Year</th>\n",
       "      <th>Outlet_Size</th>\n",
       "      <th>Outlet_Location_Type</th>\n",
       "      <th>Outlet_Type</th>\n",
       "      <th>Item_Outlet_Sales</th>\n",
       "    </tr>\n",
       "  </thead>\n",
       "  <tbody>\n",
       "    <tr>\n",
       "      <th>0</th>\n",
       "      <td>FDB38</td>\n",
       "      <td>19.500000</td>\n",
       "      <td>Regular</td>\n",
       "      <td>0.027347</td>\n",
       "      <td>Canned</td>\n",
       "      <td>158.992000</td>\n",
       "      <td>OUT046</td>\n",
       "      <td>1997</td>\n",
       "      <td>Small</td>\n",
       "      <td>Tier 1</td>\n",
       "      <td>Supermarket</td>\n",
       "      <td>1757.712000</td>\n",
       "    </tr>\n",
       "    <tr>\n",
       "      <th>1</th>\n",
       "      <td>FDQ15</td>\n",
       "      <td>20.350000</td>\n",
       "      <td>Regular</td>\n",
       "      <td>0.151308</td>\n",
       "      <td>Meat</td>\n",
       "      <td>81.727600</td>\n",
       "      <td>OUT049</td>\n",
       "      <td>1999</td>\n",
       "      <td>Medium</td>\n",
       "      <td>Tier 1</td>\n",
       "      <td>Supermarket</td>\n",
       "      <td>2030.690000</td>\n",
       "    </tr>\n",
       "    <tr>\n",
       "      <th>2</th>\n",
       "      <td>NCC54</td>\n",
       "      <td>17.750000</td>\n",
       "      <td>Low Fat</td>\n",
       "      <td>0.097692</td>\n",
       "      <td>Health and Hygiene</td>\n",
       "      <td>242.419600</td>\n",
       "      <td>OUT035</td>\n",
       "      <td>2004</td>\n",
       "      <td>Small</td>\n",
       "      <td>Tier 2</td>\n",
       "      <td>Supermarket</td>\n",
       "      <td>5543.450800</td>\n",
       "    </tr>\n",
       "    <tr>\n",
       "      <th>3</th>\n",
       "      <td>FDH41</td>\n",
       "      <td>9.000000</td>\n",
       "      <td>Low Fat</td>\n",
       "      <td>0.081943</td>\n",
       "      <td>Frozen Foods</td>\n",
       "      <td>214.553400</td>\n",
       "      <td>OUT013</td>\n",
       "      <td>1987</td>\n",
       "      <td>High</td>\n",
       "      <td>Tier 3</td>\n",
       "      <td>Supermarket</td>\n",
       "      <td>3440.854400</td>\n",
       "    </tr>\n",
       "    <tr>\n",
       "      <th>4</th>\n",
       "      <td>NCB54</td>\n",
       "      <td>8.760000</td>\n",
       "      <td>Low Fat</td>\n",
       "      <td>0.050336</td>\n",
       "      <td>Health and Hygiene</td>\n",
       "      <td>126.233600</td>\n",
       "      <td>OUT017</td>\n",
       "      <td>2007</td>\n",
       "      <td>Medium</td>\n",
       "      <td>Tier 2</td>\n",
       "      <td>Supermarket</td>\n",
       "      <td>1406.169600</td>\n",
       "    </tr>\n",
       "  </tbody>\n",
       "</table>\n",
       "</div>"
      ],
      "text/plain": [
       "  Item_Identifier  Item_Weight Item_Fat_Content  Item_Visibility  \\\n",
       "0           FDB38    19.500000          Regular         0.027347   \n",
       "1           FDQ15    20.350000          Regular         0.151308   \n",
       "2           NCC54    17.750000          Low Fat         0.097692   \n",
       "3           FDH41     9.000000          Low Fat         0.081943   \n",
       "4           NCB54     8.760000          Low Fat         0.050336   \n",
       "\n",
       "            Item_Type   Item_MRP Outlet_Identifier  Outlet_Establishment_Year  \\\n",
       "0              Canned 158.992000            OUT046                       1997   \n",
       "1                Meat  81.727600            OUT049                       1999   \n",
       "2  Health and Hygiene 242.419600            OUT035                       2004   \n",
       "3        Frozen Foods 214.553400            OUT013                       1987   \n",
       "4  Health and Hygiene 126.233600            OUT017                       2007   \n",
       "\n",
       "  Outlet_Size Outlet_Location_Type  Outlet_Type  Item_Outlet_Sales  \n",
       "0       Small               Tier 1  Supermarket        1757.712000  \n",
       "1      Medium               Tier 1  Supermarket        2030.690000  \n",
       "2       Small               Tier 2  Supermarket        5543.450800  \n",
       "3        High               Tier 3  Supermarket        3440.854400  \n",
       "4      Medium               Tier 2  Supermarket        1406.169600  "
      ]
     },
     "execution_count": 614,
     "metadata": {},
     "output_type": "execute_result"
    }
   ],
   "source": [
    "data.head()"
   ]
  },
  {
   "cell_type": "code",
   "execution_count": 615,
   "metadata": {},
   "outputs": [
    {
     "data": {
      "text/plain": [
       "(8523, 12)"
      ]
     },
     "execution_count": 615,
     "metadata": {},
     "output_type": "execute_result"
    }
   ],
   "source": [
    "data.shape"
   ]
  },
  {
   "cell_type": "code",
   "execution_count": null,
   "metadata": {},
   "outputs": [],
   "source": []
  },
  {
   "cell_type": "code",
   "execution_count": null,
   "metadata": {},
   "outputs": [],
   "source": []
  },
  {
   "cell_type": "markdown",
   "metadata": {},
   "source": [
    "# Data Analysis"
   ]
  },
  {
   "cell_type": "code",
   "execution_count": 616,
   "metadata": {},
   "outputs": [
    {
     "data": {
      "text/plain": [
       "1559"
      ]
     },
     "execution_count": 616,
     "metadata": {},
     "output_type": "execute_result"
    }
   ],
   "source": [
    "data['Item_Identifier'].nunique()"
   ]
  },
  {
   "cell_type": "code",
   "execution_count": 617,
   "metadata": {},
   "outputs": [
    {
     "data": {
      "text/html": [
       "<div>\n",
       "<style scoped>\n",
       "    .dataframe tbody tr th:only-of-type {\n",
       "        vertical-align: middle;\n",
       "    }\n",
       "\n",
       "    .dataframe tbody tr th {\n",
       "        vertical-align: top;\n",
       "    }\n",
       "\n",
       "    .dataframe thead th {\n",
       "        text-align: right;\n",
       "    }\n",
       "</style>\n",
       "<table border=\"1\" class=\"dataframe\">\n",
       "  <thead>\n",
       "    <tr style=\"text-align: right;\">\n",
       "      <th></th>\n",
       "      <th>count</th>\n",
       "    </tr>\n",
       "    <tr>\n",
       "      <th>Item_Identifier</th>\n",
       "      <th></th>\n",
       "    </tr>\n",
       "  </thead>\n",
       "  <tbody>\n",
       "    <tr>\n",
       "      <th>FDG33</th>\n",
       "      <td>10</td>\n",
       "    </tr>\n",
       "    <tr>\n",
       "      <th>FDW13</th>\n",
       "      <td>10</td>\n",
       "    </tr>\n",
       "    <tr>\n",
       "      <th>NCL31</th>\n",
       "      <td>9</td>\n",
       "    </tr>\n",
       "    <tr>\n",
       "      <th>FDX04</th>\n",
       "      <td>9</td>\n",
       "    </tr>\n",
       "    <tr>\n",
       "      <th>NCQ06</th>\n",
       "      <td>9</td>\n",
       "    </tr>\n",
       "    <tr>\n",
       "      <th>NCF42</th>\n",
       "      <td>9</td>\n",
       "    </tr>\n",
       "    <tr>\n",
       "      <th>FDD38</th>\n",
       "      <td>9</td>\n",
       "    </tr>\n",
       "    <tr>\n",
       "      <th>FDX31</th>\n",
       "      <td>9</td>\n",
       "    </tr>\n",
       "    <tr>\n",
       "      <th>DRE49</th>\n",
       "      <td>9</td>\n",
       "    </tr>\n",
       "    <tr>\n",
       "      <th>FDT07</th>\n",
       "      <td>9</td>\n",
       "    </tr>\n",
       "  </tbody>\n",
       "</table>\n",
       "</div>"
      ],
      "text/plain": [
       "                 count\n",
       "Item_Identifier       \n",
       "FDG33               10\n",
       "FDW13               10\n",
       "NCL31                9\n",
       "FDX04                9\n",
       "NCQ06                9\n",
       "NCF42                9\n",
       "FDD38                9\n",
       "FDX31                9\n",
       "DRE49                9\n",
       "FDT07                9"
      ]
     },
     "execution_count": 617,
     "metadata": {},
     "output_type": "execute_result"
    }
   ],
   "source": [
    "#most appeared Item_Identifier\n",
    "df = pd.DataFrame(data.groupby('Item_Identifier').Item_Identifier.agg(['count']).sort_values(by='count', ascending=False))\n",
    "df = df.head(10)\n",
    "df"
   ]
  },
  {
   "cell_type": "code",
   "execution_count": 618,
   "metadata": {},
   "outputs": [
    {
     "data": {
      "text/plain": [
       "Text(0, 0.5, 'total identifier')"
      ]
     },
     "execution_count": 618,
     "metadata": {},
     "output_type": "execute_result"
    },
    {
     "data": {
      "image/png": "[encoded data removed]",
      "text/plain": [
       "<Figure size 432x288 with 1 Axes>"
      ]
     },
     "metadata": {
      "needs_background": "light"
     },
     "output_type": "display_data"
    }
   ],
   "source": [
    "#plotting the previous data\n",
    "df.plot(kind='bar')\n",
    "plt.ylabel('total identifier')"
   ]
  },
  {
   "cell_type": "code",
   "execution_count": null,
   "metadata": {},
   "outputs": [],
   "source": []
  },
  {
   "cell_type": "code",
   "execution_count": 619,
   "metadata": {},
   "outputs": [],
   "source": [
    "#10 most unique item's weight"
   ]
  },
  {
   "cell_type": "code",
   "execution_count": 620,
   "metadata": {},
   "outputs": [
    {
     "data": {
      "text/html": [
       "<div>\n",
       "<style scoped>\n",
       "    .dataframe tbody tr th:only-of-type {\n",
       "        vertical-align: middle;\n",
       "    }\n",
       "\n",
       "    .dataframe tbody tr th {\n",
       "        vertical-align: top;\n",
       "    }\n",
       "\n",
       "    .dataframe thead th {\n",
       "        text-align: right;\n",
       "    }\n",
       "</style>\n",
       "<table border=\"1\" class=\"dataframe\">\n",
       "  <thead>\n",
       "    <tr style=\"text-align: right;\">\n",
       "      <th></th>\n",
       "      <th>Item_Identifier</th>\n",
       "      <th>Item_Weight</th>\n",
       "    </tr>\n",
       "  </thead>\n",
       "  <tbody>\n",
       "    <tr>\n",
       "      <th>1724</th>\n",
       "      <td>FDC02</td>\n",
       "      <td>21.350000</td>\n",
       "    </tr>\n",
       "    <tr>\n",
       "      <th>1779</th>\n",
       "      <td>FDR07</td>\n",
       "      <td>21.350000</td>\n",
       "    </tr>\n",
       "    <tr>\n",
       "      <th>1002</th>\n",
       "      <td>NCX17</td>\n",
       "      <td>21.250000</td>\n",
       "    </tr>\n",
       "    <tr>\n",
       "      <th>103</th>\n",
       "      <td>FDT03</td>\n",
       "      <td>21.250000</td>\n",
       "    </tr>\n",
       "    <tr>\n",
       "      <th>686</th>\n",
       "      <td>NCO42</td>\n",
       "      <td>21.250000</td>\n",
       "    </tr>\n",
       "    <tr>\n",
       "      <th>628</th>\n",
       "      <td>FDA45</td>\n",
       "      <td>21.250000</td>\n",
       "    </tr>\n",
       "    <tr>\n",
       "      <th>1345</th>\n",
       "      <td>FDQ21</td>\n",
       "      <td>21.250000</td>\n",
       "    </tr>\n",
       "    <tr>\n",
       "      <th>2124</th>\n",
       "      <td>FDW10</td>\n",
       "      <td>21.200000</td>\n",
       "    </tr>\n",
       "    <tr>\n",
       "      <th>681</th>\n",
       "      <td>FDG35</td>\n",
       "      <td>21.200000</td>\n",
       "    </tr>\n",
       "    <tr>\n",
       "      <th>404</th>\n",
       "      <td>NCE42</td>\n",
       "      <td>21.100000</td>\n",
       "    </tr>\n",
       "  </tbody>\n",
       "</table>\n",
       "</div>"
      ],
      "text/plain": [
       "     Item_Identifier  Item_Weight\n",
       "1724           FDC02    21.350000\n",
       "1779           FDR07    21.350000\n",
       "1002           NCX17    21.250000\n",
       "103            FDT03    21.250000\n",
       "686            NCO42    21.250000\n",
       "628            FDA45    21.250000\n",
       "1345           FDQ21    21.250000\n",
       "2124           FDW10    21.200000\n",
       "681            FDG35    21.200000\n",
       "404            NCE42    21.100000"
      ]
     },
     "execution_count": 620,
     "metadata": {},
     "output_type": "execute_result"
    }
   ],
   "source": [
    "#unique items\n",
    "unique_item = list(data['Item_Identifier'].unique())\n",
    "index = []\n",
    "\n",
    "#seperating two columns\n",
    "df = data.loc[:,['Item_Identifier','Item_Weight']]\n",
    "\n",
    "#separating unique item's maximum weight\n",
    "for i in unique_item:\n",
    "    unique_item_df = df[df['Item_Identifier']==i]\n",
    "    \n",
    "    index.append(unique_item_df['Item_Weight'].idxmax())\n",
    "\n",
    "#printing only unique item's maximum weight\n",
    "unique_max_weight = df.loc[index,['Item_Identifier','Item_Weight']].sort_values(by='Item_Weight', ascending=False)   \n",
    "unique_max_weight.head(10)"
   ]
  },
  {
   "cell_type": "code",
   "execution_count": null,
   "metadata": {},
   "outputs": [],
   "source": []
  },
  {
   "cell_type": "code",
   "execution_count": 621,
   "metadata": {},
   "outputs": [],
   "source": [
    "#total number of low fat and regular fat and their percent "
   ]
  },
  {
   "cell_type": "code",
   "execution_count": 622,
   "metadata": {},
   "outputs": [
    {
     "data": {
      "text/html": [
       "<div>\n",
       "<style scoped>\n",
       "    .dataframe tbody tr th:only-of-type {\n",
       "        vertical-align: middle;\n",
       "    }\n",
       "\n",
       "    .dataframe tbody tr th {\n",
       "        vertical-align: top;\n",
       "    }\n",
       "\n",
       "    .dataframe thead th {\n",
       "        text-align: right;\n",
       "    }\n",
       "</style>\n",
       "<table border=\"1\" class=\"dataframe\">\n",
       "  <thead>\n",
       "    <tr style=\"text-align: right;\">\n",
       "      <th></th>\n",
       "      <th>count</th>\n",
       "      <th>percent</th>\n",
       "    </tr>\n",
       "    <tr>\n",
       "      <th>Item_Fat_Content</th>\n",
       "      <th></th>\n",
       "      <th></th>\n",
       "    </tr>\n",
       "  </thead>\n",
       "  <tbody>\n",
       "    <tr>\n",
       "      <th>Low Fat</th>\n",
       "      <td>5517</td>\n",
       "      <td>64.730729</td>\n",
       "    </tr>\n",
       "    <tr>\n",
       "      <th>Regular</th>\n",
       "      <td>3006</td>\n",
       "      <td>35.269271</td>\n",
       "    </tr>\n",
       "  </tbody>\n",
       "</table>\n",
       "</div>"
      ],
      "text/plain": [
       "                  count   percent\n",
       "Item_Fat_Content                 \n",
       "Low Fat            5517 64.730729\n",
       "Regular            3006 35.269271"
      ]
     },
     "execution_count": 622,
     "metadata": {},
     "output_type": "execute_result"
    }
   ],
   "source": [
    "#finding total number\n",
    "total = data['Item_Fat_Content'].count()\n",
    "\n",
    "#groping of Item_Fat_Content column\n",
    "df = pd.DataFrame(data.groupby(['Item_Fat_Content']).Item_Identifier.agg(['count']))\n",
    "\n",
    "#finding percent\n",
    "percent = df['count']/total*100\n",
    "df['percent'] = percent\n",
    "df"
   ]
  },
  {
   "cell_type": "code",
   "execution_count": null,
   "metadata": {},
   "outputs": [],
   "source": []
  },
  {
   "cell_type": "code",
   "execution_count": 623,
   "metadata": {},
   "outputs": [],
   "source": [
    "#10 most visible items"
   ]
  },
  {
   "cell_type": "code",
   "execution_count": 624,
   "metadata": {},
   "outputs": [
    {
     "data": {
      "text/html": [
       "<div>\n",
       "<style scoped>\n",
       "    .dataframe tbody tr th:only-of-type {\n",
       "        vertical-align: middle;\n",
       "    }\n",
       "\n",
       "    .dataframe tbody tr th {\n",
       "        vertical-align: top;\n",
       "    }\n",
       "\n",
       "    .dataframe thead th {\n",
       "        text-align: right;\n",
       "    }\n",
       "</style>\n",
       "<table border=\"1\" class=\"dataframe\">\n",
       "  <thead>\n",
       "    <tr style=\"text-align: right;\">\n",
       "      <th></th>\n",
       "      <th>Item_Identifier</th>\n",
       "      <th>Item_Type</th>\n",
       "      <th>Item_Visibility</th>\n",
       "    </tr>\n",
       "  </thead>\n",
       "  <tbody>\n",
       "    <tr>\n",
       "      <th>4889</th>\n",
       "      <td>FDU13</td>\n",
       "      <td>Canned</td>\n",
       "      <td>0.328391</td>\n",
       "    </tr>\n",
       "    <tr>\n",
       "      <th>1933</th>\n",
       "      <td>NCZ18</td>\n",
       "      <td>Household</td>\n",
       "      <td>0.325781</td>\n",
       "    </tr>\n",
       "    <tr>\n",
       "      <th>2520</th>\n",
       "      <td>FDJ56</td>\n",
       "      <td>Fruits and Vegetables</td>\n",
       "      <td>0.321115</td>\n",
       "    </tr>\n",
       "    <tr>\n",
       "      <th>243</th>\n",
       "      <td>FDT24</td>\n",
       "      <td>Baking Goods</td>\n",
       "      <td>0.311090</td>\n",
       "    </tr>\n",
       "    <tr>\n",
       "      <th>7077</th>\n",
       "      <td>NCE31</td>\n",
       "      <td>Household</td>\n",
       "      <td>0.309390</td>\n",
       "    </tr>\n",
       "    <tr>\n",
       "      <th>2716</th>\n",
       "      <td>FDG32</td>\n",
       "      <td>Fruits and Vegetables</td>\n",
       "      <td>0.308145</td>\n",
       "    </tr>\n",
       "    <tr>\n",
       "      <th>5823</th>\n",
       "      <td>DRF01</td>\n",
       "      <td>Soft Drinks</td>\n",
       "      <td>0.306543</td>\n",
       "    </tr>\n",
       "    <tr>\n",
       "      <th>5314</th>\n",
       "      <td>FDI32</td>\n",
       "      <td>Fruits and Vegetables</td>\n",
       "      <td>0.305305</td>\n",
       "    </tr>\n",
       "    <tr>\n",
       "      <th>8034</th>\n",
       "      <td>FDS12</td>\n",
       "      <td>Baking Goods</td>\n",
       "      <td>0.304859</td>\n",
       "    </tr>\n",
       "    <tr>\n",
       "      <th>4954</th>\n",
       "      <td>FDR14</td>\n",
       "      <td>Dairy</td>\n",
       "      <td>0.304737</td>\n",
       "    </tr>\n",
       "  </tbody>\n",
       "</table>\n",
       "</div>"
      ],
      "text/plain": [
       "     Item_Identifier              Item_Type  Item_Visibility\n",
       "4889           FDU13                 Canned         0.328391\n",
       "1933           NCZ18              Household         0.325781\n",
       "2520           FDJ56  Fruits and Vegetables         0.321115\n",
       "243            FDT24           Baking Goods         0.311090\n",
       "7077           NCE31              Household         0.309390\n",
       "2716           FDG32  Fruits and Vegetables         0.308145\n",
       "5823           DRF01            Soft Drinks         0.306543\n",
       "5314           FDI32  Fruits and Vegetables         0.305305\n",
       "8034           FDS12           Baking Goods         0.304859\n",
       "4954           FDR14                  Dairy         0.304737"
      ]
     },
     "execution_count": 624,
     "metadata": {},
     "output_type": "execute_result"
    }
   ],
   "source": [
    "df = data.loc[:,['Item_Identifier','Item_Type','Item_Visibility']].sort_values(by='Item_Visibility', ascending=False)\n",
    "df.head(10)"
   ]
  },
  {
   "cell_type": "code",
   "execution_count": null,
   "metadata": {},
   "outputs": [],
   "source": []
  },
  {
   "cell_type": "code",
   "execution_count": 625,
   "metadata": {},
   "outputs": [],
   "source": [
    "#counting of low fat and regular fat item and visibility_sum, visibility_mean based on Item_Fat_Content"
   ]
  },
  {
   "cell_type": "code",
   "execution_count": 626,
   "metadata": {},
   "outputs": [
    {
     "data": {
      "text/html": [
       "<div>\n",
       "<style scoped>\n",
       "    .dataframe tbody tr th:only-of-type {\n",
       "        vertical-align: middle;\n",
       "    }\n",
       "\n",
       "    .dataframe tbody tr th {\n",
       "        vertical-align: top;\n",
       "    }\n",
       "\n",
       "    .dataframe thead th {\n",
       "        text-align: right;\n",
       "    }\n",
       "</style>\n",
       "<table border=\"1\" class=\"dataframe\">\n",
       "  <thead>\n",
       "    <tr style=\"text-align: right;\">\n",
       "      <th></th>\n",
       "      <th>count</th>\n",
       "      <th>visibility_sum</th>\n",
       "      <th>visibility_mean</th>\n",
       "    </tr>\n",
       "    <tr>\n",
       "      <th>Item_Fat_Content</th>\n",
       "      <th></th>\n",
       "      <th></th>\n",
       "      <th></th>\n",
       "    </tr>\n",
       "  </thead>\n",
       "  <tbody>\n",
       "    <tr>\n",
       "      <th>Low Fat</th>\n",
       "      <td>5517</td>\n",
       "      <td>354.909065</td>\n",
       "      <td>0.064330</td>\n",
       "    </tr>\n",
       "    <tr>\n",
       "      <th>Regular</th>\n",
       "      <td>3006</td>\n",
       "      <td>208.734216</td>\n",
       "      <td>0.069439</td>\n",
       "    </tr>\n",
       "  </tbody>\n",
       "</table>\n",
       "</div>"
      ],
      "text/plain": [
       "                  count  visibility_sum  visibility_mean\n",
       "Item_Fat_Content                                        \n",
       "Low Fat            5517      354.909065         0.064330\n",
       "Regular            3006      208.734216         0.069439"
      ]
     },
     "execution_count": 626,
     "metadata": {},
     "output_type": "execute_result"
    }
   ],
   "source": [
    "#grouping of Item_Fat_Content column\n",
    "df = pd.DataFrame(data.groupby(['Item_Fat_Content']).Item_Fat_Content.agg(['count']))\n",
    "\n",
    "#calculating sum visibility of Item_Fat_Content\n",
    "visibility_sum = data.groupby('Item_Fat_Content').Item_Visibility.agg(['sum'])\n",
    "df['visibility_sum'] = visibility_sum\n",
    "\n",
    "#calculating mean visibility of Item_Fat_Content \n",
    "visibility_mean = data.groupby('Item_Fat_Content').Item_Visibility.agg(['mean'])\n",
    "df['visibility_mean'] = visibility_mean\n",
    "df"
   ]
  },
  {
   "cell_type": "code",
   "execution_count": null,
   "metadata": {},
   "outputs": [],
   "source": []
  },
  {
   "cell_type": "code",
   "execution_count": 627,
   "metadata": {},
   "outputs": [],
   "source": [
    "#Item_Type column"
   ]
  },
  {
   "cell_type": "code",
   "execution_count": 628,
   "metadata": {},
   "outputs": [
    {
     "data": {
      "text/plain": [
       "16"
      ]
     },
     "execution_count": 628,
     "metadata": {},
     "output_type": "execute_result"
    }
   ],
   "source": [
    "data['Item_Type'].nunique()"
   ]
  },
  {
   "cell_type": "code",
   "execution_count": 629,
   "metadata": {},
   "outputs": [
    {
     "data": {
      "text/plain": [
       "array(['Canned', 'Meat', 'Health and Hygiene', 'Frozen Foods',\n",
       "       'Fruits and Vegetables', 'Hard Drinks', 'Others', 'Snack Foods',\n",
       "       'Dairy', 'Breakfast', 'Soft Drinks', 'Starchy Foods', 'Breads',\n",
       "       'Household', 'Baking Goods', 'Seafood'], dtype=object)"
      ]
     },
     "execution_count": 629,
     "metadata": {},
     "output_type": "execute_result"
    }
   ],
   "source": [
    "data['Item_Type'].unique()"
   ]
  },
  {
   "cell_type": "code",
   "execution_count": 630,
   "metadata": {},
   "outputs": [
    {
     "data": {
      "text/html": [
       "<div>\n",
       "<style scoped>\n",
       "    .dataframe tbody tr th:only-of-type {\n",
       "        vertical-align: middle;\n",
       "    }\n",
       "\n",
       "    .dataframe tbody tr th {\n",
       "        vertical-align: top;\n",
       "    }\n",
       "\n",
       "    .dataframe thead th {\n",
       "        text-align: right;\n",
       "    }\n",
       "</style>\n",
       "<table border=\"1\" class=\"dataframe\">\n",
       "  <thead>\n",
       "    <tr style=\"text-align: right;\">\n",
       "      <th></th>\n",
       "      <th>count</th>\n",
       "      <th>percent</th>\n",
       "    </tr>\n",
       "    <tr>\n",
       "      <th>Item_Type</th>\n",
       "      <th></th>\n",
       "      <th></th>\n",
       "    </tr>\n",
       "  </thead>\n",
       "  <tbody>\n",
       "    <tr>\n",
       "      <th>Fruits and Vegetables</th>\n",
       "      <td>1232</td>\n",
       "      <td>14.455004</td>\n",
       "    </tr>\n",
       "    <tr>\n",
       "      <th>Snack Foods</th>\n",
       "      <td>1200</td>\n",
       "      <td>14.079549</td>\n",
       "    </tr>\n",
       "    <tr>\n",
       "      <th>Household</th>\n",
       "      <td>910</td>\n",
       "      <td>10.676992</td>\n",
       "    </tr>\n",
       "    <tr>\n",
       "      <th>Frozen Foods</th>\n",
       "      <td>856</td>\n",
       "      <td>10.043412</td>\n",
       "    </tr>\n",
       "    <tr>\n",
       "      <th>Dairy</th>\n",
       "      <td>682</td>\n",
       "      <td>8.001877</td>\n",
       "    </tr>\n",
       "    <tr>\n",
       "      <th>Canned</th>\n",
       "      <td>649</td>\n",
       "      <td>7.614690</td>\n",
       "    </tr>\n",
       "    <tr>\n",
       "      <th>Baking Goods</th>\n",
       "      <td>648</td>\n",
       "      <td>7.602957</td>\n",
       "    </tr>\n",
       "    <tr>\n",
       "      <th>Health and Hygiene</th>\n",
       "      <td>520</td>\n",
       "      <td>6.101138</td>\n",
       "    </tr>\n",
       "    <tr>\n",
       "      <th>Soft Drinks</th>\n",
       "      <td>445</td>\n",
       "      <td>5.221166</td>\n",
       "    </tr>\n",
       "    <tr>\n",
       "      <th>Meat</th>\n",
       "      <td>425</td>\n",
       "      <td>4.986507</td>\n",
       "    </tr>\n",
       "    <tr>\n",
       "      <th>Breads</th>\n",
       "      <td>251</td>\n",
       "      <td>2.944972</td>\n",
       "    </tr>\n",
       "    <tr>\n",
       "      <th>Hard Drinks</th>\n",
       "      <td>214</td>\n",
       "      <td>2.510853</td>\n",
       "    </tr>\n",
       "    <tr>\n",
       "      <th>Others</th>\n",
       "      <td>169</td>\n",
       "      <td>1.982870</td>\n",
       "    </tr>\n",
       "    <tr>\n",
       "      <th>Starchy Foods</th>\n",
       "      <td>148</td>\n",
       "      <td>1.736478</td>\n",
       "    </tr>\n",
       "    <tr>\n",
       "      <th>Breakfast</th>\n",
       "      <td>110</td>\n",
       "      <td>1.290625</td>\n",
       "    </tr>\n",
       "    <tr>\n",
       "      <th>Seafood</th>\n",
       "      <td>64</td>\n",
       "      <td>0.750909</td>\n",
       "    </tr>\n",
       "  </tbody>\n",
       "</table>\n",
       "</div>"
      ],
      "text/plain": [
       "                       count   percent\n",
       "Item_Type                             \n",
       "Fruits and Vegetables   1232 14.455004\n",
       "Snack Foods             1200 14.079549\n",
       "Household                910 10.676992\n",
       "Frozen Foods             856 10.043412\n",
       "Dairy                    682  8.001877\n",
       "Canned                   649  7.614690\n",
       "Baking Goods             648  7.602957\n",
       "Health and Hygiene       520  6.101138\n",
       "Soft Drinks              445  5.221166\n",
       "Meat                     425  4.986507\n",
       "Breads                   251  2.944972\n",
       "Hard Drinks              214  2.510853\n",
       "Others                   169  1.982870\n",
       "Starchy Foods            148  1.736478\n",
       "Breakfast                110  1.290625\n",
       "Seafood                   64  0.750909"
      ]
     },
     "execution_count": 630,
     "metadata": {},
     "output_type": "execute_result"
    }
   ],
   "source": [
    "#total number of Item_Type\n",
    "total_number = data['Item_Type'].count()\n",
    "\n",
    "#counting every items\n",
    "df = pd.DataFrame(data.groupby(['Item_Type']).Item_Type.agg(['count']).sort_values(by='count', ascending=False))\n",
    "\n",
    "#find percent of every item\n",
    "percent = df['count']/total_number*100\n",
    "df['percent'] = percent\n",
    "df"
   ]
  },
  {
   "cell_type": "code",
   "execution_count": 631,
   "metadata": {},
   "outputs": [
    {
     "data": {
      "text/plain": [
       "<matplotlib.axes._subplots.AxesSubplot at 0x7fa1b6b027d0>"
      ]
     },
     "execution_count": 631,
     "metadata": {},
     "output_type": "execute_result"
    },
    {
     "data": {
      "image/png": "[encoded data removed]",
      "text/plain": [
       "<Figure size 1152x360 with 1 Axes>"
      ]
     },
     "metadata": {
      "needs_background": "light"
     },
     "output_type": "display_data"
    }
   ],
   "source": [
    "#sum of every item using barplot\n",
    "plt.figure(figsize=(16,5))\n",
    "sns.barplot(x=df.index, y=df['count'])"
   ]
  },
  {
   "cell_type": "code",
   "execution_count": 632,
   "metadata": {},
   "outputs": [
    {
     "data": {
      "text/plain": [
       "Text(0, 0.5, 'percent of item')"
      ]
     },
     "execution_count": 632,
     "metadata": {},
     "output_type": "execute_result"
    },
    {
     "data": {
      "image/png": "[encoded data removed]",
      "text/plain": [
       "<Figure size 864x360 with 1 Axes>"
      ]
     },
     "metadata": {
      "needs_background": "light"
     },
     "output_type": "display_data"
    }
   ],
   "source": [
    "#percent of every item\n",
    "plt.figure(figsize=(12,5))\n",
    "df['percent'].plot(kind='bar')\n",
    "plt.ylabel('percent of item')"
   ]
  },
  {
   "cell_type": "code",
   "execution_count": null,
   "metadata": {},
   "outputs": [],
   "source": []
  },
  {
   "cell_type": "code",
   "execution_count": 633,
   "metadata": {},
   "outputs": [],
   "source": [
    "#sum, percent based on Item_Type and Item_Fat_Content"
   ]
  },
  {
   "cell_type": "code",
   "execution_count": 634,
   "metadata": {},
   "outputs": [
    {
     "data": {
      "text/html": [
       "<div>\n",
       "<style scoped>\n",
       "    .dataframe tbody tr th:only-of-type {\n",
       "        vertical-align: middle;\n",
       "    }\n",
       "\n",
       "    .dataframe tbody tr th {\n",
       "        vertical-align: top;\n",
       "    }\n",
       "\n",
       "    .dataframe thead th {\n",
       "        text-align: right;\n",
       "    }\n",
       "</style>\n",
       "<table border=\"1\" class=\"dataframe\">\n",
       "  <thead>\n",
       "    <tr style=\"text-align: right;\">\n",
       "      <th></th>\n",
       "      <th></th>\n",
       "      <th>count</th>\n",
       "      <th>percent</th>\n",
       "    </tr>\n",
       "    <tr>\n",
       "      <th>Item_Type</th>\n",
       "      <th>Item_Fat_Content</th>\n",
       "      <th></th>\n",
       "      <th></th>\n",
       "    </tr>\n",
       "  </thead>\n",
       "  <tbody>\n",
       "    <tr>\n",
       "      <th rowspan=\"2\" valign=\"top\">Baking Goods</th>\n",
       "      <th>Low Fat</th>\n",
       "      <td>329</td>\n",
       "      <td>3.860143</td>\n",
       "    </tr>\n",
       "    <tr>\n",
       "      <th>Regular</th>\n",
       "      <td>319</td>\n",
       "      <td>3.742814</td>\n",
       "    </tr>\n",
       "    <tr>\n",
       "      <th rowspan=\"2\" valign=\"top\">Breads</th>\n",
       "      <th>Low Fat</th>\n",
       "      <td>140</td>\n",
       "      <td>1.642614</td>\n",
       "    </tr>\n",
       "    <tr>\n",
       "      <th>Regular</th>\n",
       "      <td>111</td>\n",
       "      <td>1.302358</td>\n",
       "    </tr>\n",
       "    <tr>\n",
       "      <th rowspan=\"2\" valign=\"top\">Breakfast</th>\n",
       "      <th>Low Fat</th>\n",
       "      <td>41</td>\n",
       "      <td>0.481051</td>\n",
       "    </tr>\n",
       "    <tr>\n",
       "      <th>Regular</th>\n",
       "      <td>69</td>\n",
       "      <td>0.809574</td>\n",
       "    </tr>\n",
       "    <tr>\n",
       "      <th rowspan=\"2\" valign=\"top\">Canned</th>\n",
       "      <th>Low Fat</th>\n",
       "      <td>341</td>\n",
       "      <td>4.000939</td>\n",
       "    </tr>\n",
       "    <tr>\n",
       "      <th>Regular</th>\n",
       "      <td>308</td>\n",
       "      <td>3.613751</td>\n",
       "    </tr>\n",
       "    <tr>\n",
       "      <th rowspan=\"2\" valign=\"top\">Dairy</th>\n",
       "      <th>Low Fat</th>\n",
       "      <td>418</td>\n",
       "      <td>4.904376</td>\n",
       "    </tr>\n",
       "    <tr>\n",
       "      <th>Regular</th>\n",
       "      <td>264</td>\n",
       "      <td>3.097501</td>\n",
       "    </tr>\n",
       "    <tr>\n",
       "      <th rowspan=\"2\" valign=\"top\">Frozen Foods</th>\n",
       "      <th>Low Fat</th>\n",
       "      <td>450</td>\n",
       "      <td>5.279831</td>\n",
       "    </tr>\n",
       "    <tr>\n",
       "      <th>Regular</th>\n",
       "      <td>406</td>\n",
       "      <td>4.763581</td>\n",
       "    </tr>\n",
       "    <tr>\n",
       "      <th rowspan=\"2\" valign=\"top\">Fruits and Vegetables</th>\n",
       "      <th>Low Fat</th>\n",
       "      <td>630</td>\n",
       "      <td>7.391763</td>\n",
       "    </tr>\n",
       "    <tr>\n",
       "      <th>Regular</th>\n",
       "      <td>602</td>\n",
       "      <td>7.063241</td>\n",
       "    </tr>\n",
       "    <tr>\n",
       "      <th>Hard Drinks</th>\n",
       "      <th>Low Fat</th>\n",
       "      <td>214</td>\n",
       "      <td>2.510853</td>\n",
       "    </tr>\n",
       "    <tr>\n",
       "      <th>Health and Hygiene</th>\n",
       "      <th>Low Fat</th>\n",
       "      <td>520</td>\n",
       "      <td>6.101138</td>\n",
       "    </tr>\n",
       "    <tr>\n",
       "      <th>Household</th>\n",
       "      <th>Low Fat</th>\n",
       "      <td>910</td>\n",
       "      <td>10.676992</td>\n",
       "    </tr>\n",
       "    <tr>\n",
       "      <th rowspan=\"2\" valign=\"top\">Meat</th>\n",
       "      <th>Low Fat</th>\n",
       "      <td>170</td>\n",
       "      <td>1.994603</td>\n",
       "    </tr>\n",
       "    <tr>\n",
       "      <th>Regular</th>\n",
       "      <td>255</td>\n",
       "      <td>2.991904</td>\n",
       "    </tr>\n",
       "    <tr>\n",
       "      <th>Others</th>\n",
       "      <th>Low Fat</th>\n",
       "      <td>169</td>\n",
       "      <td>1.982870</td>\n",
       "    </tr>\n",
       "    <tr>\n",
       "      <th rowspan=\"2\" valign=\"top\">Seafood</th>\n",
       "      <th>Low Fat</th>\n",
       "      <td>37</td>\n",
       "      <td>0.434119</td>\n",
       "    </tr>\n",
       "    <tr>\n",
       "      <th>Regular</th>\n",
       "      <td>27</td>\n",
       "      <td>0.316790</td>\n",
       "    </tr>\n",
       "    <tr>\n",
       "      <th rowspan=\"2\" valign=\"top\">Snack Foods</th>\n",
       "      <th>Low Fat</th>\n",
       "      <td>692</td>\n",
       "      <td>8.119207</td>\n",
       "    </tr>\n",
       "    <tr>\n",
       "      <th>Regular</th>\n",
       "      <td>508</td>\n",
       "      <td>5.960343</td>\n",
       "    </tr>\n",
       "    <tr>\n",
       "      <th rowspan=\"2\" valign=\"top\">Soft Drinks</th>\n",
       "      <th>Low Fat</th>\n",
       "      <td>374</td>\n",
       "      <td>4.388126</td>\n",
       "    </tr>\n",
       "    <tr>\n",
       "      <th>Regular</th>\n",
       "      <td>71</td>\n",
       "      <td>0.833040</td>\n",
       "    </tr>\n",
       "    <tr>\n",
       "      <th rowspan=\"2\" valign=\"top\">Starchy Foods</th>\n",
       "      <th>Low Fat</th>\n",
       "      <td>82</td>\n",
       "      <td>0.962103</td>\n",
       "    </tr>\n",
       "    <tr>\n",
       "      <th>Regular</th>\n",
       "      <td>66</td>\n",
       "      <td>0.774375</td>\n",
       "    </tr>\n",
       "  </tbody>\n",
       "</table>\n",
       "</div>"
      ],
      "text/plain": [
       "                                        count   percent\n",
       "Item_Type             Item_Fat_Content                 \n",
       "Baking Goods          Low Fat             329  3.860143\n",
       "                      Regular             319  3.742814\n",
       "Breads                Low Fat             140  1.642614\n",
       "                      Regular             111  1.302358\n",
       "Breakfast             Low Fat              41  0.481051\n",
       "                      Regular              69  0.809574\n",
       "Canned                Low Fat             341  4.000939\n",
       "                      Regular             308  3.613751\n",
       "Dairy                 Low Fat             418  4.904376\n",
       "                      Regular             264  3.097501\n",
       "Frozen Foods          Low Fat             450  5.279831\n",
       "                      Regular             406  4.763581\n",
       "Fruits and Vegetables Low Fat             630  7.391763\n",
       "                      Regular             602  7.063241\n",
       "Hard Drinks           Low Fat             214  2.510853\n",
       "Health and Hygiene    Low Fat             520  6.101138\n",
       "Household             Low Fat             910 10.676992\n",
       "Meat                  Low Fat             170  1.994603\n",
       "                      Regular             255  2.991904\n",
       "Others                Low Fat             169  1.982870\n",
       "Seafood               Low Fat              37  0.434119\n",
       "                      Regular              27  0.316790\n",
       "Snack Foods           Low Fat             692  8.119207\n",
       "                      Regular             508  5.960343\n",
       "Soft Drinks           Low Fat             374  4.388126\n",
       "                      Regular              71  0.833040\n",
       "Starchy Foods         Low Fat              82  0.962103\n",
       "                      Regular              66  0.774375"
      ]
     },
     "execution_count": 634,
     "metadata": {},
     "output_type": "execute_result"
    }
   ],
   "source": [
    "#total of Item_Fat_Content\n",
    "total_item_fat = data['Item_Fat_Content'].count()\n",
    "\n",
    "#count of Item_Fat_Content based on Item_Type and Item_Fat_Content\n",
    "df = pd.DataFrame(data.groupby(['Item_Type','Item_Fat_Content']).Item_Fat_Content.agg(['count']))\n",
    "\n",
    "#calculating percent \n",
    "percent = df['count']/total_item_fat*100\n",
    "df['percent'] = percent\n",
    "df"
   ]
  },
  {
   "cell_type": "code",
   "execution_count": null,
   "metadata": {},
   "outputs": [],
   "source": []
  },
  {
   "cell_type": "code",
   "execution_count": 635,
   "metadata": {},
   "outputs": [],
   "source": [
    "#sum, min, mean, and max of Item_MRP based on Item_Type"
   ]
  },
  {
   "cell_type": "code",
   "execution_count": 636,
   "metadata": {},
   "outputs": [
    {
     "data": {
      "text/html": [
       "<div>\n",
       "<style scoped>\n",
       "    .dataframe tbody tr th:only-of-type {\n",
       "        vertical-align: middle;\n",
       "    }\n",
       "\n",
       "    .dataframe tbody tr th {\n",
       "        vertical-align: top;\n",
       "    }\n",
       "\n",
       "    .dataframe thead th {\n",
       "        text-align: right;\n",
       "    }\n",
       "</style>\n",
       "<table border=\"1\" class=\"dataframe\">\n",
       "  <thead>\n",
       "    <tr style=\"text-align: right;\">\n",
       "      <th></th>\n",
       "      <th>total_price_of_item</th>\n",
       "      <th>minimum_price_of_item</th>\n",
       "      <th>mean_price_of_item</th>\n",
       "      <th>maximum_price_of_item</th>\n",
       "    </tr>\n",
       "    <tr>\n",
       "      <th>Item_Type</th>\n",
       "      <th></th>\n",
       "      <th></th>\n",
       "      <th></th>\n",
       "      <th></th>\n",
       "    </tr>\n",
       "  </thead>\n",
       "  <tbody>\n",
       "    <tr>\n",
       "      <th>Baking Goods</th>\n",
       "      <td>81894.736400</td>\n",
       "      <td>33.987400</td>\n",
       "      <td>126.380766</td>\n",
       "      <td>265.556800</td>\n",
       "    </tr>\n",
       "    <tr>\n",
       "      <th>Breads</th>\n",
       "      <td>35379.119800</td>\n",
       "      <td>31.955800</td>\n",
       "      <td>140.952669</td>\n",
       "      <td>263.659400</td>\n",
       "    </tr>\n",
       "    <tr>\n",
       "      <th>Breakfast</th>\n",
       "      <td>15596.696600</td>\n",
       "      <td>40.048000</td>\n",
       "      <td>141.788151</td>\n",
       "      <td>234.930000</td>\n",
       "    </tr>\n",
       "    <tr>\n",
       "      <th>Canned</th>\n",
       "      <td>90706.727000</td>\n",
       "      <td>36.350600</td>\n",
       "      <td>139.763832</td>\n",
       "      <td>266.888400</td>\n",
       "    </tr>\n",
       "    <tr>\n",
       "      <th>Dairy</th>\n",
       "      <td>101276.459600</td>\n",
       "      <td>33.487400</td>\n",
       "      <td>148.499208</td>\n",
       "      <td>266.688400</td>\n",
       "    </tr>\n",
       "    <tr>\n",
       "      <th>Frozen Foods</th>\n",
       "      <td>118558.881400</td>\n",
       "      <td>31.955800</td>\n",
       "      <td>138.503366</td>\n",
       "      <td>264.891000</td>\n",
       "    </tr>\n",
       "    <tr>\n",
       "      <th>Fruits and Vegetables</th>\n",
       "      <td>178124.081000</td>\n",
       "      <td>36.250600</td>\n",
       "      <td>144.581235</td>\n",
       "      <td>264.225200</td>\n",
       "    </tr>\n",
       "    <tr>\n",
       "      <th>Hard Drinks</th>\n",
       "      <td>29334.676600</td>\n",
       "      <td>34.253200</td>\n",
       "      <td>137.077928</td>\n",
       "      <td>261.427800</td>\n",
       "    </tr>\n",
       "    <tr>\n",
       "      <th>Health and Hygiene</th>\n",
       "      <td>68025.838800</td>\n",
       "      <td>33.121600</td>\n",
       "      <td>130.818921</td>\n",
       "      <td>266.688400</td>\n",
       "    </tr>\n",
       "    <tr>\n",
       "      <th>Household</th>\n",
       "      <td>135976.525400</td>\n",
       "      <td>32.455800</td>\n",
       "      <td>149.424753</td>\n",
       "      <td>264.791000</td>\n",
       "    </tr>\n",
       "    <tr>\n",
       "      <th>Meat</th>\n",
       "      <td>59449.863800</td>\n",
       "      <td>34.753200</td>\n",
       "      <td>139.882032</td>\n",
       "      <td>261.593600</td>\n",
       "    </tr>\n",
       "    <tr>\n",
       "      <th>Others</th>\n",
       "      <td>22451.891600</td>\n",
       "      <td>35.019000</td>\n",
       "      <td>132.851430</td>\n",
       "      <td>254.904000</td>\n",
       "    </tr>\n",
       "    <tr>\n",
       "      <th>Seafood</th>\n",
       "      <td>9077.870000</td>\n",
       "      <td>33.721600</td>\n",
       "      <td>141.841719</td>\n",
       "      <td>240.288000</td>\n",
       "    </tr>\n",
       "    <tr>\n",
       "      <th>Snack Foods</th>\n",
       "      <td>175433.920400</td>\n",
       "      <td>32.355800</td>\n",
       "      <td>146.194934</td>\n",
       "      <td>264.956800</td>\n",
       "    </tr>\n",
       "    <tr>\n",
       "      <th>Soft Drinks</th>\n",
       "      <td>58514.165000</td>\n",
       "      <td>31.290000</td>\n",
       "      <td>131.492506</td>\n",
       "      <td>263.591000</td>\n",
       "    </tr>\n",
       "    <tr>\n",
       "      <th>Starchy Foods</th>\n",
       "      <td>21880.027400</td>\n",
       "      <td>34.053200</td>\n",
       "      <td>147.838023</td>\n",
       "      <td>263.025200</td>\n",
       "    </tr>\n",
       "  </tbody>\n",
       "</table>\n",
       "</div>"
      ],
      "text/plain": [
       "                       total_price_of_item  minimum_price_of_item  \\\n",
       "Item_Type                                                           \n",
       "Baking Goods                  81894.736400              33.987400   \n",
       "Breads                        35379.119800              31.955800   \n",
       "Breakfast                     15596.696600              40.048000   \n",
       "Canned                        90706.727000              36.350600   \n",
       "Dairy                        101276.459600              33.487400   \n",
       "Frozen Foods                 118558.881400              31.955800   \n",
       "Fruits and Vegetables        178124.081000              36.250600   \n",
       "Hard Drinks                   29334.676600              34.253200   \n",
       "Health and Hygiene            68025.838800              33.121600   \n",
       "Household                    135976.525400              32.455800   \n",
       "Meat                          59449.863800              34.753200   \n",
       "Others                        22451.891600              35.019000   \n",
       "Seafood                        9077.870000              33.721600   \n",
       "Snack Foods                  175433.920400              32.355800   \n",
       "Soft Drinks                   58514.165000              31.290000   \n",
       "Starchy Foods                 21880.027400              34.053200   \n",
       "\n",
       "                       mean_price_of_item  maximum_price_of_item  \n",
       "Item_Type                                                         \n",
       "Baking Goods                   126.380766             265.556800  \n",
       "Breads                         140.952669             263.659400  \n",
       "Breakfast                      141.788151             234.930000  \n",
       "Canned                         139.763832             266.888400  \n",
       "Dairy                          148.499208             266.688400  \n",
       "Frozen Foods                   138.503366             264.891000  \n",
       "Fruits and Vegetables          144.581235             264.225200  \n",
       "Hard Drinks                    137.077928             261.427800  \n",
       "Health and Hygiene             130.818921             266.688400  \n",
       "Household                      149.424753             264.791000  \n",
       "Meat                           139.882032             261.593600  \n",
       "Others                         132.851430             254.904000  \n",
       "Seafood                        141.841719             240.288000  \n",
       "Snack Foods                    146.194934             264.956800  \n",
       "Soft Drinks                    131.492506             263.591000  \n",
       "Starchy Foods                  147.838023             263.025200  "
      ]
     },
     "execution_count": 636,
     "metadata": {},
     "output_type": "execute_result"
    }
   ],
   "source": [
    "df = pd.DataFrame(data.groupby(['Item_Type']).Item_MRP.agg(['sum','min','mean','max']))\n",
    "df.columns = ['total_price_of_item', 'minimum_price_of_item', 'mean_price_of_item', 'maximum_price_of_item']\n",
    "df"
   ]
  },
  {
   "cell_type": "code",
   "execution_count": null,
   "metadata": {},
   "outputs": [],
   "source": []
  },
  {
   "cell_type": "code",
   "execution_count": 637,
   "metadata": {},
   "outputs": [],
   "source": [
    "#sum, min, mean, max of Item_Outlet_Sales based on Item_Type"
   ]
  },
  {
   "cell_type": "code",
   "execution_count": 638,
   "metadata": {},
   "outputs": [
    {
     "data": {
      "text/html": [
       "<div>\n",
       "<style scoped>\n",
       "    .dataframe tbody tr th:only-of-type {\n",
       "        vertical-align: middle;\n",
       "    }\n",
       "\n",
       "    .dataframe tbody tr th {\n",
       "        vertical-align: top;\n",
       "    }\n",
       "\n",
       "    .dataframe thead th {\n",
       "        text-align: right;\n",
       "    }\n",
       "</style>\n",
       "<table border=\"1\" class=\"dataframe\">\n",
       "  <thead>\n",
       "    <tr style=\"text-align: right;\">\n",
       "      <th></th>\n",
       "      <th>total_outlet_sales</th>\n",
       "      <th>minimum_sales</th>\n",
       "      <th>mean_sales</th>\n",
       "      <th>maximum_sales</th>\n",
       "    </tr>\n",
       "    <tr>\n",
       "      <th>Item_Type</th>\n",
       "      <th></th>\n",
       "      <th></th>\n",
       "      <th></th>\n",
       "      <th></th>\n",
       "    </tr>\n",
       "  </thead>\n",
       "  <tbody>\n",
       "    <tr>\n",
       "      <th>Baking Goods</th>\n",
       "      <td>1265525.342200</td>\n",
       "      <td>37.284800</td>\n",
       "      <td>1952.971207</td>\n",
       "      <td>7931.675400</td>\n",
       "    </tr>\n",
       "    <tr>\n",
       "      <th>Breads</th>\n",
       "      <td>553237.188800</td>\n",
       "      <td>35.287400</td>\n",
       "      <td>2204.132226</td>\n",
       "      <td>8958.339000</td>\n",
       "    </tr>\n",
       "    <tr>\n",
       "      <th>Breakfast</th>\n",
       "      <td>232298.951600</td>\n",
       "      <td>39.948000</td>\n",
       "      <td>2111.808651</td>\n",
       "      <td>8209.314000</td>\n",
       "    </tr>\n",
       "    <tr>\n",
       "      <th>Canned</th>\n",
       "      <td>1444151.492600</td>\n",
       "      <td>37.950600</td>\n",
       "      <td>2225.194904</td>\n",
       "      <td>10306.584000</td>\n",
       "    </tr>\n",
       "    <tr>\n",
       "      <th>Dairy</th>\n",
       "      <td>1522594.051200</td>\n",
       "      <td>40.613800</td>\n",
       "      <td>2232.542597</td>\n",
       "      <td>10256.649000</td>\n",
       "    </tr>\n",
       "    <tr>\n",
       "      <th>Frozen Foods</th>\n",
       "      <td>1825734.788600</td>\n",
       "      <td>36.619000</td>\n",
       "      <td>2132.867744</td>\n",
       "      <td>9678.068800</td>\n",
       "    </tr>\n",
       "    <tr>\n",
       "      <th>Fruits and Vegetables</th>\n",
       "      <td>2820059.816800</td>\n",
       "      <td>45.274400</td>\n",
       "      <td>2289.009592</td>\n",
       "      <td>12117.560000</td>\n",
       "    </tr>\n",
       "    <tr>\n",
       "      <th>Hard Drinks</th>\n",
       "      <td>457793.427200</td>\n",
       "      <td>37.950600</td>\n",
       "      <td>2139.221622</td>\n",
       "      <td>7843.124000</td>\n",
       "    </tr>\n",
       "    <tr>\n",
       "      <th>Health and Hygiene</th>\n",
       "      <td>1045200.137800</td>\n",
       "      <td>34.621600</td>\n",
       "      <td>2010.000265</td>\n",
       "      <td>9779.936200</td>\n",
       "    </tr>\n",
       "    <tr>\n",
       "      <th>Household</th>\n",
       "      <td>2055493.713200</td>\n",
       "      <td>33.290000</td>\n",
       "      <td>2258.784300</td>\n",
       "      <td>13086.964800</td>\n",
       "    </tr>\n",
       "    <tr>\n",
       "      <th>Meat</th>\n",
       "      <td>917565.612000</td>\n",
       "      <td>47.937600</td>\n",
       "      <td>2158.977911</td>\n",
       "      <td>9390.443200</td>\n",
       "    </tr>\n",
       "    <tr>\n",
       "      <th>Others</th>\n",
       "      <td>325517.609600</td>\n",
       "      <td>39.948000</td>\n",
       "      <td>1926.139702</td>\n",
       "      <td>6008.845000</td>\n",
       "    </tr>\n",
       "    <tr>\n",
       "      <th>Seafood</th>\n",
       "      <td>148868.219400</td>\n",
       "      <td>149.805000</td>\n",
       "      <td>2326.065928</td>\n",
       "      <td>6503.534400</td>\n",
       "    </tr>\n",
       "    <tr>\n",
       "      <th>Snack Foods</th>\n",
       "      <td>2732786.087000</td>\n",
       "      <td>33.955800</td>\n",
       "      <td>2277.321739</td>\n",
       "      <td>10993.689600</td>\n",
       "    </tr>\n",
       "    <tr>\n",
       "      <th>Soft Drinks</th>\n",
       "      <td>892897.722000</td>\n",
       "      <td>33.290000</td>\n",
       "      <td>2006.511735</td>\n",
       "      <td>9554.230000</td>\n",
       "    </tr>\n",
       "    <tr>\n",
       "      <th>Starchy Foods</th>\n",
       "      <td>351401.250400</td>\n",
       "      <td>58.590400</td>\n",
       "      <td>2374.332773</td>\n",
       "      <td>8132.081200</td>\n",
       "    </tr>\n",
       "  </tbody>\n",
       "</table>\n",
       "</div>"
      ],
      "text/plain": [
       "                       total_outlet_sales  minimum_sales  mean_sales  \\\n",
       "Item_Type                                                              \n",
       "Baking Goods               1265525.342200      37.284800 1952.971207   \n",
       "Breads                      553237.188800      35.287400 2204.132226   \n",
       "Breakfast                   232298.951600      39.948000 2111.808651   \n",
       "Canned                     1444151.492600      37.950600 2225.194904   \n",
       "Dairy                      1522594.051200      40.613800 2232.542597   \n",
       "Frozen Foods               1825734.788600      36.619000 2132.867744   \n",
       "Fruits and Vegetables      2820059.816800      45.274400 2289.009592   \n",
       "Hard Drinks                 457793.427200      37.950600 2139.221622   \n",
       "Health and Hygiene         1045200.137800      34.621600 2010.000265   \n",
       "Household                  2055493.713200      33.290000 2258.784300   \n",
       "Meat                        917565.612000      47.937600 2158.977911   \n",
       "Others                      325517.609600      39.948000 1926.139702   \n",
       "Seafood                     148868.219400     149.805000 2326.065928   \n",
       "Snack Foods                2732786.087000      33.955800 2277.321739   \n",
       "Soft Drinks                 892897.722000      33.290000 2006.511735   \n",
       "Starchy Foods               351401.250400      58.590400 2374.332773   \n",
       "\n",
       "                       maximum_sales  \n",
       "Item_Type                             \n",
       "Baking Goods             7931.675400  \n",
       "Breads                   8958.339000  \n",
       "Breakfast                8209.314000  \n",
       "Canned                  10306.584000  \n",
       "Dairy                   10256.649000  \n",
       "Frozen Foods             9678.068800  \n",
       "Fruits and Vegetables   12117.560000  \n",
       "Hard Drinks              7843.124000  \n",
       "Health and Hygiene       9779.936200  \n",
       "Household               13086.964800  \n",
       "Meat                     9390.443200  \n",
       "Others                   6008.845000  \n",
       "Seafood                  6503.534400  \n",
       "Snack Foods             10993.689600  \n",
       "Soft Drinks              9554.230000  \n",
       "Starchy Foods            8132.081200  "
      ]
     },
     "execution_count": 638,
     "metadata": {},
     "output_type": "execute_result"
    }
   ],
   "source": [
    "df = pd.DataFrame(data.groupby(['Item_Type']).Item_Outlet_Sales.agg(['sum','min','mean','max']))\n",
    "df.columns=['total_outlet_sales', 'minimum_sales', 'mean_sales', 'maximum_sales']\n",
    "df"
   ]
  },
  {
   "cell_type": "code",
   "execution_count": null,
   "metadata": {},
   "outputs": [],
   "source": []
  },
  {
   "cell_type": "code",
   "execution_count": 639,
   "metadata": {},
   "outputs": [],
   "source": [
    "#total sales of different product in different outlet "
   ]
  },
  {
   "cell_type": "code",
   "execution_count": 640,
   "metadata": {},
   "outputs": [
    {
     "data": {
      "text/html": [
       "<div>\n",
       "<style scoped>\n",
       "    .dataframe tbody tr th:only-of-type {\n",
       "        vertical-align: middle;\n",
       "    }\n",
       "\n",
       "    .dataframe tbody tr th {\n",
       "        vertical-align: top;\n",
       "    }\n",
       "\n",
       "    .dataframe thead th {\n",
       "        text-align: right;\n",
       "    }\n",
       "</style>\n",
       "<table border=\"1\" class=\"dataframe\">\n",
       "  <thead>\n",
       "    <tr style=\"text-align: right;\">\n",
       "      <th></th>\n",
       "      <th></th>\n",
       "      <th>total_sales</th>\n",
       "    </tr>\n",
       "    <tr>\n",
       "      <th>Outlet_Identifier</th>\n",
       "      <th>Item_Type</th>\n",
       "      <th></th>\n",
       "    </tr>\n",
       "  </thead>\n",
       "  <tbody>\n",
       "    <tr>\n",
       "      <th rowspan=\"5\" valign=\"top\">OUT010</th>\n",
       "      <th>Baking Goods</th>\n",
       "      <td>10693.413800</td>\n",
       "    </tr>\n",
       "    <tr>\n",
       "      <th>Breads</th>\n",
       "      <td>7657.365800</td>\n",
       "    </tr>\n",
       "    <tr>\n",
       "      <th>Breakfast</th>\n",
       "      <td>4081.354000</td>\n",
       "    </tr>\n",
       "    <tr>\n",
       "      <th>Canned</th>\n",
       "      <td>9019.592600</td>\n",
       "    </tr>\n",
       "    <tr>\n",
       "      <th>Dairy</th>\n",
       "      <td>15307.407800</td>\n",
       "    </tr>\n",
       "    <tr>\n",
       "      <th>...</th>\n",
       "      <th>...</th>\n",
       "      <td>...</td>\n",
       "    </tr>\n",
       "    <tr>\n",
       "      <th rowspan=\"5\" valign=\"top\">OUT049</th>\n",
       "      <th>Others</th>\n",
       "      <td>47772.481600</td>\n",
       "    </tr>\n",
       "    <tr>\n",
       "      <th>Seafood</th>\n",
       "      <td>11827.271200</td>\n",
       "    </tr>\n",
       "    <tr>\n",
       "      <th>Snack Foods</th>\n",
       "      <td>350244.090000</td>\n",
       "    </tr>\n",
       "    <tr>\n",
       "      <th>Soft Drinks</th>\n",
       "      <td>97585.640200</td>\n",
       "    </tr>\n",
       "    <tr>\n",
       "      <th>Starchy Foods</th>\n",
       "      <td>42019.969600</td>\n",
       "    </tr>\n",
       "  </tbody>\n",
       "</table>\n",
       "<p>160 rows × 1 columns</p>\n",
       "</div>"
      ],
      "text/plain": [
       "                                  total_sales\n",
       "Outlet_Identifier Item_Type                  \n",
       "OUT010            Baking Goods   10693.413800\n",
       "                  Breads          7657.365800\n",
       "                  Breakfast       4081.354000\n",
       "                  Canned          9019.592600\n",
       "                  Dairy          15307.407800\n",
       "...                                       ...\n",
       "OUT049            Others         47772.481600\n",
       "                  Seafood        11827.271200\n",
       "                  Snack Foods   350244.090000\n",
       "                  Soft Drinks    97585.640200\n",
       "                  Starchy Foods  42019.969600\n",
       "\n",
       "[160 rows x 1 columns]"
      ]
     },
     "execution_count": 640,
     "metadata": {},
     "output_type": "execute_result"
    }
   ],
   "source": [
    "df = pd.DataFrame(data.groupby(['Outlet_Identifier','Item_Type']).Item_Outlet_Sales.agg(['sum']))\n",
    "df = df.rename(columns={'sum':'total_sales'})\n",
    "df\n"
   ]
  },
  {
   "cell_type": "code",
   "execution_count": null,
   "metadata": {},
   "outputs": [],
   "source": []
  },
  {
   "cell_type": "code",
   "execution_count": 641,
   "metadata": {},
   "outputs": [],
   "source": [
    "#wich item will found in which type of outlet and in which location"
   ]
  },
  {
   "cell_type": "code",
   "execution_count": 642,
   "metadata": {},
   "outputs": [
    {
     "data": {
      "text/html": [
       "<div>\n",
       "<style scoped>\n",
       "    .dataframe tbody tr th:only-of-type {\n",
       "        vertical-align: middle;\n",
       "    }\n",
       "\n",
       "    .dataframe tbody tr th {\n",
       "        vertical-align: top;\n",
       "    }\n",
       "\n",
       "    .dataframe thead th {\n",
       "        text-align: right;\n",
       "    }\n",
       "</style>\n",
       "<table border=\"1\" class=\"dataframe\">\n",
       "  <thead>\n",
       "    <tr style=\"text-align: right;\">\n",
       "      <th></th>\n",
       "      <th></th>\n",
       "      <th></th>\n",
       "      <th>count</th>\n",
       "    </tr>\n",
       "    <tr>\n",
       "      <th>Outlet_Type</th>\n",
       "      <th>Outlet_Location_Type</th>\n",
       "      <th>Item_Type</th>\n",
       "      <th></th>\n",
       "    </tr>\n",
       "  </thead>\n",
       "  <tbody>\n",
       "    <tr>\n",
       "      <th rowspan=\"5\" valign=\"top\">Grocery Store</th>\n",
       "      <th rowspan=\"5\" valign=\"top\">Tier 1</th>\n",
       "      <th>Baking Goods</th>\n",
       "      <td>43</td>\n",
       "    </tr>\n",
       "    <tr>\n",
       "      <th>Breads</th>\n",
       "      <td>16</td>\n",
       "    </tr>\n",
       "    <tr>\n",
       "      <th>Breakfast</th>\n",
       "      <td>10</td>\n",
       "    </tr>\n",
       "    <tr>\n",
       "      <th>Canned</th>\n",
       "      <td>38</td>\n",
       "    </tr>\n",
       "    <tr>\n",
       "      <th>Dairy</th>\n",
       "      <td>49</td>\n",
       "    </tr>\n",
       "    <tr>\n",
       "      <th>...</th>\n",
       "      <th>...</th>\n",
       "      <th>...</th>\n",
       "      <td>...</td>\n",
       "    </tr>\n",
       "    <tr>\n",
       "      <th rowspan=\"5\" valign=\"top\">Supermarket</th>\n",
       "      <th rowspan=\"5\" valign=\"top\">Tier 3</th>\n",
       "      <th>Others</th>\n",
       "      <td>51</td>\n",
       "    </tr>\n",
       "    <tr>\n",
       "      <th>Seafood</th>\n",
       "      <td>19</td>\n",
       "    </tr>\n",
       "    <tr>\n",
       "      <th>Snack Foods</th>\n",
       "      <td>394</td>\n",
       "    </tr>\n",
       "    <tr>\n",
       "      <th>Soft Drinks</th>\n",
       "      <td>140</td>\n",
       "    </tr>\n",
       "    <tr>\n",
       "      <th>Starchy Foods</th>\n",
       "      <td>50</td>\n",
       "    </tr>\n",
       "  </tbody>\n",
       "</table>\n",
       "<p>80 rows × 1 columns</p>\n",
       "</div>"
      ],
      "text/plain": [
       "                                                  count\n",
       "Outlet_Type   Outlet_Location_Type Item_Type           \n",
       "Grocery Store Tier 1               Baking Goods      43\n",
       "                                   Breads            16\n",
       "                                   Breakfast         10\n",
       "                                   Canned            38\n",
       "                                   Dairy             49\n",
       "...                                                 ...\n",
       "Supermarket   Tier 3               Others            51\n",
       "                                   Seafood           19\n",
       "                                   Snack Foods      394\n",
       "                                   Soft Drinks      140\n",
       "                                   Starchy Foods     50\n",
       "\n",
       "[80 rows x 1 columns]"
      ]
     },
     "execution_count": 642,
     "metadata": {},
     "output_type": "execute_result"
    }
   ],
   "source": [
    "data.groupby(['Outlet_Type','Outlet_Location_Type','Item_Type']).Item_Type.agg(['count'])"
   ]
  },
  {
   "cell_type": "code",
   "execution_count": null,
   "metadata": {},
   "outputs": [],
   "source": []
  },
  {
   "cell_type": "code",
   "execution_count": 643,
   "metadata": {},
   "outputs": [],
   "source": [
    "#type of outliet size based on establishment year"
   ]
  },
  {
   "cell_type": "code",
   "execution_count": 644,
   "metadata": {},
   "outputs": [
    {
     "data": {
      "text/html": [
       "<div>\n",
       "<style scoped>\n",
       "    .dataframe tbody tr th:only-of-type {\n",
       "        vertical-align: middle;\n",
       "    }\n",
       "\n",
       "    .dataframe tbody tr th {\n",
       "        vertical-align: top;\n",
       "    }\n",
       "\n",
       "    .dataframe thead th {\n",
       "        text-align: right;\n",
       "    }\n",
       "</style>\n",
       "<table border=\"1\" class=\"dataframe\">\n",
       "  <thead>\n",
       "    <tr style=\"text-align: right;\">\n",
       "      <th></th>\n",
       "      <th></th>\n",
       "      <th>count</th>\n",
       "    </tr>\n",
       "    <tr>\n",
       "      <th>Outlet_Establishment_Year</th>\n",
       "      <th>Outlet_Size</th>\n",
       "      <th></th>\n",
       "    </tr>\n",
       "  </thead>\n",
       "  <tbody>\n",
       "    <tr>\n",
       "      <th rowspan=\"2\" valign=\"top\">1985</th>\n",
       "      <th>Medium</th>\n",
       "      <td>935</td>\n",
       "    </tr>\n",
       "    <tr>\n",
       "      <th>Small</th>\n",
       "      <td>528</td>\n",
       "    </tr>\n",
       "    <tr>\n",
       "      <th>1987</th>\n",
       "      <th>High</th>\n",
       "      <td>932</td>\n",
       "    </tr>\n",
       "    <tr>\n",
       "      <th>1997</th>\n",
       "      <th>Small</th>\n",
       "      <td>930</td>\n",
       "    </tr>\n",
       "    <tr>\n",
       "      <th rowspan=\"3\" valign=\"top\">1998</th>\n",
       "      <th>High</th>\n",
       "      <td>79</td>\n",
       "    </tr>\n",
       "    <tr>\n",
       "      <th>Medium</th>\n",
       "      <td>260</td>\n",
       "    </tr>\n",
       "    <tr>\n",
       "      <th>Small</th>\n",
       "      <td>216</td>\n",
       "    </tr>\n",
       "    <tr>\n",
       "      <th>1999</th>\n",
       "      <th>Medium</th>\n",
       "      <td>930</td>\n",
       "    </tr>\n",
       "    <tr>\n",
       "      <th rowspan=\"3\" valign=\"top\">2002</th>\n",
       "      <th>High</th>\n",
       "      <td>145</td>\n",
       "    </tr>\n",
       "    <tr>\n",
       "      <th>Medium</th>\n",
       "      <td>455</td>\n",
       "    </tr>\n",
       "    <tr>\n",
       "      <th>Small</th>\n",
       "      <td>329</td>\n",
       "    </tr>\n",
       "    <tr>\n",
       "      <th>2004</th>\n",
       "      <th>Small</th>\n",
       "      <td>930</td>\n",
       "    </tr>\n",
       "    <tr>\n",
       "      <th rowspan=\"3\" valign=\"top\">2007</th>\n",
       "      <th>High</th>\n",
       "      <td>134</td>\n",
       "    </tr>\n",
       "    <tr>\n",
       "      <th>Medium</th>\n",
       "      <td>404</td>\n",
       "    </tr>\n",
       "    <tr>\n",
       "      <th>Small</th>\n",
       "      <td>388</td>\n",
       "    </tr>\n",
       "    <tr>\n",
       "      <th>2009</th>\n",
       "      <th>Medium</th>\n",
       "      <td>928</td>\n",
       "    </tr>\n",
       "  </tbody>\n",
       "</table>\n",
       "</div>"
      ],
      "text/plain": [
       "                                       count\n",
       "Outlet_Establishment_Year Outlet_Size       \n",
       "1985                      Medium         935\n",
       "                          Small          528\n",
       "1987                      High           932\n",
       "1997                      Small          930\n",
       "1998                      High            79\n",
       "                          Medium         260\n",
       "                          Small          216\n",
       "1999                      Medium         930\n",
       "2002                      High           145\n",
       "                          Medium         455\n",
       "                          Small          329\n",
       "2004                      Small          930\n",
       "2007                      High           134\n",
       "                          Medium         404\n",
       "                          Small          388\n",
       "2009                      Medium         928"
      ]
     },
     "execution_count": 644,
     "metadata": {},
     "output_type": "execute_result"
    }
   ],
   "source": [
    "data.groupby(['Outlet_Establishment_Year','Outlet_Size']).Outlet_Size.agg(['count'])"
   ]
  },
  {
   "cell_type": "code",
   "execution_count": null,
   "metadata": {},
   "outputs": [],
   "source": []
  },
  {
   "cell_type": "code",
   "execution_count": 645,
   "metadata": {},
   "outputs": [],
   "source": [
    "#total sales in Grocery Store and Supermarket"
   ]
  },
  {
   "cell_type": "code",
   "execution_count": 646,
   "metadata": {},
   "outputs": [
    {
     "data": {
      "text/html": [
       "<div>\n",
       "<style scoped>\n",
       "    .dataframe tbody tr th:only-of-type {\n",
       "        vertical-align: middle;\n",
       "    }\n",
       "\n",
       "    .dataframe tbody tr th {\n",
       "        vertical-align: top;\n",
       "    }\n",
       "\n",
       "    .dataframe thead th {\n",
       "        text-align: right;\n",
       "    }\n",
       "</style>\n",
       "<table border=\"1\" class=\"dataframe\">\n",
       "  <thead>\n",
       "    <tr style=\"text-align: right;\">\n",
       "      <th></th>\n",
       "      <th>total_outlet_sales</th>\n",
       "      <th>percent_of_outlet_sales</th>\n",
       "    </tr>\n",
       "    <tr>\n",
       "      <th>Outlet_Type</th>\n",
       "      <th></th>\n",
       "      <th></th>\n",
       "    </tr>\n",
       "  </thead>\n",
       "  <tbody>\n",
       "    <tr>\n",
       "      <th>Grocery Store</th>\n",
       "      <td>368034.266000</td>\n",
       "      <td>1.979623</td>\n",
       "    </tr>\n",
       "    <tr>\n",
       "      <th>Supermarket</th>\n",
       "      <td>18223091.144400</td>\n",
       "      <td>98.020377</td>\n",
       "    </tr>\n",
       "  </tbody>\n",
       "</table>\n",
       "</div>"
      ],
      "text/plain": [
       "               total_outlet_sales  percent_of_outlet_sales\n",
       "Outlet_Type                                               \n",
       "Grocery Store       368034.266000                 1.979623\n",
       "Supermarket       18223091.144400                98.020377"
      ]
     },
     "execution_count": 646,
     "metadata": {},
     "output_type": "execute_result"
    }
   ],
   "source": [
    "#for full number visible\n",
    "pd.set_option('float_format', '{:f}'.format)\n",
    "\n",
    "#total sales in two outlet\n",
    "total_sales = data['Item_Outlet_Sales'].sum()\n",
    "\n",
    "#total sales in two outlet\n",
    "df = pd.DataFrame(data.groupby(['Outlet_Type']).Item_Outlet_Sales.agg(['sum']))\n",
    "\n",
    "#total sales in percent in two outlet\n",
    "percent = df['sum']/total_sales*100\n",
    "df['percent'] = percent\n",
    "\n",
    "#changing columns name\n",
    "df.columns = ['total_outlet_sales','percent_of_outlet_sales']\n",
    "df"
   ]
  },
  {
   "cell_type": "code",
   "execution_count": null,
   "metadata": {},
   "outputs": [],
   "source": []
  },
  {
   "cell_type": "code",
   "execution_count": 647,
   "metadata": {},
   "outputs": [],
   "source": [
    "#total_sale, minimum_sale, mean_sale and maximum_sale based on Outlet_Type and Outlet_Size"
   ]
  },
  {
   "cell_type": "code",
   "execution_count": 648,
   "metadata": {},
   "outputs": [
    {
     "data": {
      "text/html": [
       "<div>\n",
       "<style scoped>\n",
       "    .dataframe tbody tr th:only-of-type {\n",
       "        vertical-align: middle;\n",
       "    }\n",
       "\n",
       "    .dataframe tbody tr th {\n",
       "        vertical-align: top;\n",
       "    }\n",
       "\n",
       "    .dataframe thead th {\n",
       "        text-align: right;\n",
       "    }\n",
       "</style>\n",
       "<table border=\"1\" class=\"dataframe\">\n",
       "  <thead>\n",
       "    <tr style=\"text-align: right;\">\n",
       "      <th></th>\n",
       "      <th></th>\n",
       "      <th>sum</th>\n",
       "      <th>min</th>\n",
       "      <th>mean</th>\n",
       "      <th>max</th>\n",
       "    </tr>\n",
       "    <tr>\n",
       "      <th>Outlet_Type</th>\n",
       "      <th>Outlet_Size</th>\n",
       "      <th></th>\n",
       "      <th></th>\n",
       "      <th></th>\n",
       "      <th></th>\n",
       "    </tr>\n",
       "  </thead>\n",
       "  <tbody>\n",
       "    <tr>\n",
       "      <th rowspan=\"3\" valign=\"top\">Grocery Store</th>\n",
       "      <th>High</th>\n",
       "      <td>28866.424800</td>\n",
       "      <td>49.269200</td>\n",
       "      <td>365.397782</td>\n",
       "      <td>1342.252800</td>\n",
       "    </tr>\n",
       "    <tr>\n",
       "      <th>Medium</th>\n",
       "      <td>90331.083400</td>\n",
       "      <td>39.948000</td>\n",
       "      <td>347.427244</td>\n",
       "      <td>1575.282800</td>\n",
       "    </tr>\n",
       "    <tr>\n",
       "      <th>Small</th>\n",
       "      <td>248836.757800</td>\n",
       "      <td>33.290000</td>\n",
       "      <td>334.458008</td>\n",
       "      <td>1775.688600</td>\n",
       "    </tr>\n",
       "    <tr>\n",
       "      <th rowspan=\"3\" valign=\"top\">Supermarket</th>\n",
       "      <th>High</th>\n",
       "      <td>2788403.024200</td>\n",
       "      <td>73.238000</td>\n",
       "      <td>2302.562365</td>\n",
       "      <td>10256.649000</td>\n",
       "    </tr>\n",
       "    <tr>\n",
       "      <th>Medium</th>\n",
       "      <td>9451961.122600</td>\n",
       "      <td>69.243200</td>\n",
       "      <td>2588.160220</td>\n",
       "      <td>13086.964800</td>\n",
       "    </tr>\n",
       "    <tr>\n",
       "      <th>Small</th>\n",
       "      <td>5982726.997600</td>\n",
       "      <td>101.867400</td>\n",
       "      <td>2321.585952</td>\n",
       "      <td>9779.936200</td>\n",
       "    </tr>\n",
       "  </tbody>\n",
       "</table>\n",
       "</div>"
      ],
      "text/plain": [
       "                                     sum        min        mean          max\n",
       "Outlet_Type   Outlet_Size                                                   \n",
       "Grocery Store High          28866.424800  49.269200  365.397782  1342.252800\n",
       "              Medium        90331.083400  39.948000  347.427244  1575.282800\n",
       "              Small        248836.757800  33.290000  334.458008  1775.688600\n",
       "Supermarket   High        2788403.024200  73.238000 2302.562365 10256.649000\n",
       "              Medium      9451961.122600  69.243200 2588.160220 13086.964800\n",
       "              Small       5982726.997600 101.867400 2321.585952  9779.936200"
      ]
     },
     "execution_count": 648,
     "metadata": {},
     "output_type": "execute_result"
    }
   ],
   "source": [
    "data.groupby(['Outlet_Type','Outlet_Size']).Item_Outlet_Sales.agg(['sum','min','mean','max'])"
   ]
  },
  {
   "cell_type": "code",
   "execution_count": null,
   "metadata": {},
   "outputs": [],
   "source": []
  },
  {
   "cell_type": "code",
   "execution_count": 649,
   "metadata": {},
   "outputs": [],
   "source": [
    "#total sales and percent in every outlet"
   ]
  },
  {
   "cell_type": "code",
   "execution_count": 650,
   "metadata": {},
   "outputs": [
    {
     "data": {
      "text/html": [
       "<div>\n",
       "<style scoped>\n",
       "    .dataframe tbody tr th:only-of-type {\n",
       "        vertical-align: middle;\n",
       "    }\n",
       "\n",
       "    .dataframe tbody tr th {\n",
       "        vertical-align: top;\n",
       "    }\n",
       "\n",
       "    .dataframe thead th {\n",
       "        text-align: right;\n",
       "    }\n",
       "</style>\n",
       "<table border=\"1\" class=\"dataframe\">\n",
       "  <thead>\n",
       "    <tr style=\"text-align: right;\">\n",
       "      <th></th>\n",
       "      <th>total_sales</th>\n",
       "      <th>sales_in_percent</th>\n",
       "    </tr>\n",
       "    <tr>\n",
       "      <th>Outlet_Identifier</th>\n",
       "      <th></th>\n",
       "      <th></th>\n",
       "    </tr>\n",
       "  </thead>\n",
       "  <tbody>\n",
       "    <tr>\n",
       "      <th>OUT027</th>\n",
       "      <td>3453926.051400</td>\n",
       "      <td>18.578359</td>\n",
       "    </tr>\n",
       "    <tr>\n",
       "      <th>OUT035</th>\n",
       "      <td>2268122.935400</td>\n",
       "      <td>12.200030</td>\n",
       "    </tr>\n",
       "    <tr>\n",
       "      <th>OUT049</th>\n",
       "      <td>2183969.810200</td>\n",
       "      <td>11.747378</td>\n",
       "    </tr>\n",
       "    <tr>\n",
       "      <th>OUT017</th>\n",
       "      <td>2167465.294000</td>\n",
       "      <td>11.658602</td>\n",
       "    </tr>\n",
       "    <tr>\n",
       "      <th>OUT013</th>\n",
       "      <td>2142663.578200</td>\n",
       "      <td>11.525196</td>\n",
       "    </tr>\n",
       "    <tr>\n",
       "      <th>OUT046</th>\n",
       "      <td>2118395.168200</td>\n",
       "      <td>11.394658</td>\n",
       "    </tr>\n",
       "    <tr>\n",
       "      <th>OUT045</th>\n",
       "      <td>2036725.477000</td>\n",
       "      <td>10.955364</td>\n",
       "    </tr>\n",
       "    <tr>\n",
       "      <th>OUT018</th>\n",
       "      <td>1851822.830000</td>\n",
       "      <td>9.960789</td>\n",
       "    </tr>\n",
       "    <tr>\n",
       "      <th>OUT010</th>\n",
       "      <td>188340.172400</td>\n",
       "      <td>1.013065</td>\n",
       "    </tr>\n",
       "    <tr>\n",
       "      <th>OUT019</th>\n",
       "      <td>179694.093600</td>\n",
       "      <td>0.966558</td>\n",
       "    </tr>\n",
       "  </tbody>\n",
       "</table>\n",
       "</div>"
      ],
      "text/plain": [
       "                     total_sales  sales_in_percent\n",
       "Outlet_Identifier                                 \n",
       "OUT027            3453926.051400         18.578359\n",
       "OUT035            2268122.935400         12.200030\n",
       "OUT049            2183969.810200         11.747378\n",
       "OUT017            2167465.294000         11.658602\n",
       "OUT013            2142663.578200         11.525196\n",
       "OUT046            2118395.168200         11.394658\n",
       "OUT045            2036725.477000         10.955364\n",
       "OUT018            1851822.830000          9.960789\n",
       "OUT010             188340.172400          1.013065\n",
       "OUT019             179694.093600          0.966558"
      ]
     },
     "execution_count": 650,
     "metadata": {},
     "output_type": "execute_result"
    }
   ],
   "source": [
    "#calculating total sales\n",
    "total_sales = data['Item_Outlet_Sales'].sum()\n",
    "\n",
    "#calculating total sales in every outlet\n",
    "df = pd.DataFrame(data.groupby(['Outlet_Identifier']).Item_Outlet_Sales.agg(['sum']).sort_values(by='sum', ascending=False))\n",
    "\n",
    "#percent of sales in every outlet\n",
    "percent = df['sum']/total_sales*100\n",
    "df['sales_in_percent'] = percent\n",
    "\n",
    "#changing column name\n",
    "df = df.rename(columns={'sum':'total_sales'})\n",
    "df"
   ]
  },
  {
   "cell_type": "code",
   "execution_count": null,
   "metadata": {},
   "outputs": [],
   "source": []
  },
  {
   "cell_type": "code",
   "execution_count": null,
   "metadata": {},
   "outputs": [],
   "source": []
  },
  {
   "cell_type": "markdown",
   "metadata": {},
   "source": [
    "# Preparing dataset for Machine Learning Algorithm"
   ]
  },
  {
   "cell_type": "code",
   "execution_count": 651,
   "metadata": {},
   "outputs": [],
   "source": [
    "#dropping those column which are don't need"
   ]
  },
  {
   "cell_type": "code",
   "execution_count": 652,
   "metadata": {},
   "outputs": [],
   "source": [
    "data.drop(['Item_Weight','Item_Fat_Content','Item_Visibility','Outlet_Establishment_Year','Outlet_Size'], axis=1, inplace=True)"
   ]
  },
  {
   "cell_type": "code",
   "execution_count": 653,
   "metadata": {},
   "outputs": [
    {
     "data": {
      "text/html": [
       "<div>\n",
       "<style scoped>\n",
       "    .dataframe tbody tr th:only-of-type {\n",
       "        vertical-align: middle;\n",
       "    }\n",
       "\n",
       "    .dataframe tbody tr th {\n",
       "        vertical-align: top;\n",
       "    }\n",
       "\n",
       "    .dataframe thead th {\n",
       "        text-align: right;\n",
       "    }\n",
       "</style>\n",
       "<table border=\"1\" class=\"dataframe\">\n",
       "  <thead>\n",
       "    <tr style=\"text-align: right;\">\n",
       "      <th></th>\n",
       "      <th>Item_Identifier</th>\n",
       "      <th>Item_Type</th>\n",
       "      <th>Item_MRP</th>\n",
       "      <th>Outlet_Identifier</th>\n",
       "      <th>Outlet_Location_Type</th>\n",
       "      <th>Outlet_Type</th>\n",
       "      <th>Item_Outlet_Sales</th>\n",
       "    </tr>\n",
       "  </thead>\n",
       "  <tbody>\n",
       "    <tr>\n",
       "      <th>0</th>\n",
       "      <td>FDB38</td>\n",
       "      <td>Canned</td>\n",
       "      <td>158.992000</td>\n",
       "      <td>OUT046</td>\n",
       "      <td>Tier 1</td>\n",
       "      <td>Supermarket</td>\n",
       "      <td>1757.712000</td>\n",
       "    </tr>\n",
       "    <tr>\n",
       "      <th>1</th>\n",
       "      <td>FDQ15</td>\n",
       "      <td>Meat</td>\n",
       "      <td>81.727600</td>\n",
       "      <td>OUT049</td>\n",
       "      <td>Tier 1</td>\n",
       "      <td>Supermarket</td>\n",
       "      <td>2030.690000</td>\n",
       "    </tr>\n",
       "    <tr>\n",
       "      <th>2</th>\n",
       "      <td>NCC54</td>\n",
       "      <td>Health and Hygiene</td>\n",
       "      <td>242.419600</td>\n",
       "      <td>OUT035</td>\n",
       "      <td>Tier 2</td>\n",
       "      <td>Supermarket</td>\n",
       "      <td>5543.450800</td>\n",
       "    </tr>\n",
       "    <tr>\n",
       "      <th>3</th>\n",
       "      <td>FDH41</td>\n",
       "      <td>Frozen Foods</td>\n",
       "      <td>214.553400</td>\n",
       "      <td>OUT013</td>\n",
       "      <td>Tier 3</td>\n",
       "      <td>Supermarket</td>\n",
       "      <td>3440.854400</td>\n",
       "    </tr>\n",
       "    <tr>\n",
       "      <th>4</th>\n",
       "      <td>NCB54</td>\n",
       "      <td>Health and Hygiene</td>\n",
       "      <td>126.233600</td>\n",
       "      <td>OUT017</td>\n",
       "      <td>Tier 2</td>\n",
       "      <td>Supermarket</td>\n",
       "      <td>1406.169600</td>\n",
       "    </tr>\n",
       "  </tbody>\n",
       "</table>\n",
       "</div>"
      ],
      "text/plain": [
       "  Item_Identifier           Item_Type   Item_MRP Outlet_Identifier  \\\n",
       "0           FDB38              Canned 158.992000            OUT046   \n",
       "1           FDQ15                Meat  81.727600            OUT049   \n",
       "2           NCC54  Health and Hygiene 242.419600            OUT035   \n",
       "3           FDH41        Frozen Foods 214.553400            OUT013   \n",
       "4           NCB54  Health and Hygiene 126.233600            OUT017   \n",
       "\n",
       "  Outlet_Location_Type  Outlet_Type  Item_Outlet_Sales  \n",
       "0               Tier 1  Supermarket        1757.712000  \n",
       "1               Tier 1  Supermarket        2030.690000  \n",
       "2               Tier 2  Supermarket        5543.450800  \n",
       "3               Tier 3  Supermarket        3440.854400  \n",
       "4               Tier 2  Supermarket        1406.169600  "
      ]
     },
     "execution_count": 653,
     "metadata": {},
     "output_type": "execute_result"
    }
   ],
   "source": [
    "data.head()"
   ]
  },
  {
   "cell_type": "code",
   "execution_count": null,
   "metadata": {},
   "outputs": [],
   "source": []
  },
  {
   "cell_type": "markdown",
   "metadata": {},
   "source": [
    "# checking  and removing outlier"
   ]
  },
  {
   "cell_type": "code",
   "execution_count": 654,
   "metadata": {},
   "outputs": [
    {
     "data": {
      "text/plain": [
       "count   8523.000000\n",
       "mean     140.992782\n",
       "std       62.275067\n",
       "min       31.290000\n",
       "25%       93.826500\n",
       "50%      143.012800\n",
       "75%      185.643700\n",
       "max      266.888400\n",
       "Name: Item_MRP, dtype: float64"
      ]
     },
     "execution_count": 654,
     "metadata": {},
     "output_type": "execute_result"
    }
   ],
   "source": [
    "data['Item_MRP'].describe()"
   ]
  },
  {
   "cell_type": "code",
   "execution_count": 655,
   "metadata": {},
   "outputs": [
    {
     "data": {
      "text/plain": [
       "<matplotlib.axes._subplots.AxesSubplot at 0x7fa1b693d410>"
      ]
     },
     "execution_count": 655,
     "metadata": {},
     "output_type": "execute_result"
    },
    {
     "data": {
      "image/png": "[encoded data removed]",
      "text/plain": [
       "<Figure size 432x288 with 1 Axes>"
      ]
     },
     "metadata": {
      "needs_background": "light"
     },
     "output_type": "display_data"
    }
   ],
   "source": [
    "sns.boxplot(x=data['Item_MRP'])"
   ]
  },
  {
   "cell_type": "code",
   "execution_count": null,
   "metadata": {},
   "outputs": [],
   "source": []
  },
  {
   "cell_type": "code",
   "execution_count": 656,
   "metadata": {},
   "outputs": [],
   "source": [
    "#dropping those which price<80 and price>260\n",
    "data  = data[(data['Item_MRP']>=80) & (data['Item_MRP']<=260)]"
   ]
  },
  {
   "cell_type": "code",
   "execution_count": null,
   "metadata": {},
   "outputs": [],
   "source": []
  },
  {
   "cell_type": "code",
   "execution_count": 657,
   "metadata": {},
   "outputs": [
    {
     "data": {
      "text/plain": [
       "count    6782.000000\n",
       "mean     2451.656432\n",
       "std      1693.670065\n",
       "min        79.230200\n",
       "25%      1225.072000\n",
       "50%      2142.544400\n",
       "75%      3372.942800\n",
       "max     13086.964800\n",
       "Name: Item_Outlet_Sales, dtype: float64"
      ]
     },
     "execution_count": 657,
     "metadata": {},
     "output_type": "execute_result"
    }
   ],
   "source": [
    "#checking outlier of Item_Outlet_Sales\n",
    "data['Item_Outlet_Sales'].describe()"
   ]
  },
  {
   "cell_type": "code",
   "execution_count": 658,
   "metadata": {},
   "outputs": [
    {
     "data": {
      "text/plain": [
       "<matplotlib.axes._subplots.AxesSubplot at 0x7fa1b6909350>"
      ]
     },
     "execution_count": 658,
     "metadata": {},
     "output_type": "execute_result"
    },
    {
     "data": {
      "image/png": "[encoded data removed]",
      "text/plain": [
       "<Figure size 432x288 with 1 Axes>"
      ]
     },
     "metadata": {
      "needs_background": "light"
     },
     "output_type": "display_data"
    }
   ],
   "source": [
    "sns.boxplot(x=data['Item_Outlet_Sales'])"
   ]
  },
  {
   "cell_type": "code",
   "execution_count": 659,
   "metadata": {},
   "outputs": [],
   "source": [
    "#dropping outlier of Item_Outlet_Sales\n",
    "data = data[(data['Item_Outlet_Sales']<=6000) & (data['Item_Outlet_Sales']>=100)]\n"
   ]
  },
  {
   "cell_type": "code",
   "execution_count": 660,
   "metadata": {},
   "outputs": [
    {
     "data": {
      "text/plain": [
       "<matplotlib.axes._subplots.AxesSubplot at 0x7fa1b686df10>"
      ]
     },
     "execution_count": 660,
     "metadata": {},
     "output_type": "execute_result"
    },
    {
     "data": {
      "image/png": "[encoded data removed]",
      "text/plain": [
       "<Figure size 432x288 with 1 Axes>"
      ]
     },
     "metadata": {
      "needs_background": "light"
     },
     "output_type": "display_data"
    }
   ],
   "source": [
    "sns.boxplot(x=data['Item_Outlet_Sales'])"
   ]
  },
  {
   "cell_type": "code",
   "execution_count": null,
   "metadata": {},
   "outputs": [],
   "source": []
  },
  {
   "cell_type": "code",
   "execution_count": 661,
   "metadata": {},
   "outputs": [],
   "source": [
    "#dropping some row where Item_Identifier are only two or less"
   ]
  },
  {
   "cell_type": "code",
   "execution_count": 662,
   "metadata": {},
   "outputs": [],
   "source": [
    "uni_item_identifier = list(data['Item_Identifier'].unique())\n",
    "\n",
    "for i in uni_item_identifier:\n",
    "    ind = list(data[data['Item_Identifier']==i].index)\n",
    "    \n",
    "    if len(ind)<=2:\n",
    "        data.drop(ind, axis=0, inplace=True)"
   ]
  },
  {
   "cell_type": "code",
   "execution_count": null,
   "metadata": {},
   "outputs": [],
   "source": []
  },
  {
   "cell_type": "code",
   "execution_count": 663,
   "metadata": {},
   "outputs": [],
   "source": [
    "#DROPPING THOSE ROWS WHERE HAVE Item_Type<=10"
   ]
  },
  {
   "cell_type": "code",
   "execution_count": 664,
   "metadata": {},
   "outputs": [],
   "source": [
    "uni_item = list(data['Item_Type'].unique())\n",
    "\n",
    "for i in uni_item:\n",
    "    uni=list(data[data['Item_Type']==i].index)\n",
    "    \n",
    "    if len(uni)<=10:\n",
    "        data.drop(uni, axis=0, inplace=True)"
   ]
  },
  {
   "cell_type": "code",
   "execution_count": null,
   "metadata": {},
   "outputs": [],
   "source": []
  },
  {
   "cell_type": "markdown",
   "metadata": {},
   "source": [
    "same product but different price in different outlet because some products price depends on location.\n",
    "In different location need different cheering cost"
   ]
  },
  {
   "cell_type": "code",
   "execution_count": 665,
   "metadata": {},
   "outputs": [
    {
     "data": {
      "text/html": [
       "<div>\n",
       "<style scoped>\n",
       "    .dataframe tbody tr th:only-of-type {\n",
       "        vertical-align: middle;\n",
       "    }\n",
       "\n",
       "    .dataframe tbody tr th {\n",
       "        vertical-align: top;\n",
       "    }\n",
       "\n",
       "    .dataframe thead th {\n",
       "        text-align: right;\n",
       "    }\n",
       "</style>\n",
       "<table border=\"1\" class=\"dataframe\">\n",
       "  <thead>\n",
       "    <tr style=\"text-align: right;\">\n",
       "      <th></th>\n",
       "      <th>Item_Identifier</th>\n",
       "      <th>Item_Type</th>\n",
       "      <th>Item_MRP</th>\n",
       "      <th>Outlet_Identifier</th>\n",
       "      <th>Outlet_Location_Type</th>\n",
       "      <th>Outlet_Type</th>\n",
       "      <th>Item_Outlet_Sales</th>\n",
       "    </tr>\n",
       "  </thead>\n",
       "  <tbody>\n",
       "    <tr>\n",
       "      <th>1484</th>\n",
       "      <td>NCQ02</td>\n",
       "      <td>Household</td>\n",
       "      <td>186.755600</td>\n",
       "      <td>OUT013</td>\n",
       "      <td>Tier 3</td>\n",
       "      <td>Supermarket</td>\n",
       "      <td>2816.334000</td>\n",
       "    </tr>\n",
       "    <tr>\n",
       "      <th>2581</th>\n",
       "      <td>NCQ02</td>\n",
       "      <td>Household</td>\n",
       "      <td>186.955600</td>\n",
       "      <td>OUT035</td>\n",
       "      <td>Tier 2</td>\n",
       "      <td>Supermarket</td>\n",
       "      <td>3942.867600</td>\n",
       "    </tr>\n",
       "    <tr>\n",
       "      <th>5984</th>\n",
       "      <td>NCQ02</td>\n",
       "      <td>Household</td>\n",
       "      <td>186.955600</td>\n",
       "      <td>OUT049</td>\n",
       "      <td>Tier 1</td>\n",
       "      <td>Supermarket</td>\n",
       "      <td>3379.600800</td>\n",
       "    </tr>\n",
       "  </tbody>\n",
       "</table>\n",
       "</div>"
      ],
      "text/plain": [
       "     Item_Identifier  Item_Type   Item_MRP Outlet_Identifier  \\\n",
       "1484           NCQ02  Household 186.755600            OUT013   \n",
       "2581           NCQ02  Household 186.955600            OUT035   \n",
       "5984           NCQ02  Household 186.955600            OUT049   \n",
       "\n",
       "     Outlet_Location_Type  Outlet_Type  Item_Outlet_Sales  \n",
       "1484               Tier 3  Supermarket        2816.334000  \n",
       "2581               Tier 2  Supermarket        3942.867600  \n",
       "5984               Tier 1  Supermarket        3379.600800  "
      ]
     },
     "execution_count": 665,
     "metadata": {},
     "output_type": "execute_result"
    }
   ],
   "source": [
    "data[data['Item_Identifier']=='NCQ02']"
   ]
  },
  {
   "cell_type": "code",
   "execution_count": 666,
   "metadata": {},
   "outputs": [],
   "source": [
    "#adding a new column\n",
    "data['Number_Item'] = data['Item_Outlet_Sales']/data['Item_MRP']\n",
    "data['Number_Item'] = data['Number_Item'].astype(int)"
   ]
  },
  {
   "cell_type": "code",
   "execution_count": 667,
   "metadata": {},
   "outputs": [
    {
     "data": {
      "text/html": [
       "<div>\n",
       "<style scoped>\n",
       "    .dataframe tbody tr th:only-of-type {\n",
       "        vertical-align: middle;\n",
       "    }\n",
       "\n",
       "    .dataframe tbody tr th {\n",
       "        vertical-align: top;\n",
       "    }\n",
       "\n",
       "    .dataframe thead th {\n",
       "        text-align: right;\n",
       "    }\n",
       "</style>\n",
       "<table border=\"1\" class=\"dataframe\">\n",
       "  <thead>\n",
       "    <tr style=\"text-align: right;\">\n",
       "      <th></th>\n",
       "      <th>Item_Identifier</th>\n",
       "      <th>Item_Type</th>\n",
       "      <th>Item_MRP</th>\n",
       "      <th>Outlet_Identifier</th>\n",
       "      <th>Outlet_Location_Type</th>\n",
       "      <th>Outlet_Type</th>\n",
       "      <th>Item_Outlet_Sales</th>\n",
       "      <th>Number_Item</th>\n",
       "    </tr>\n",
       "  </thead>\n",
       "  <tbody>\n",
       "    <tr>\n",
       "      <th>0</th>\n",
       "      <td>FDB38</td>\n",
       "      <td>Canned</td>\n",
       "      <td>158.992000</td>\n",
       "      <td>OUT046</td>\n",
       "      <td>Tier 1</td>\n",
       "      <td>Supermarket</td>\n",
       "      <td>1757.712000</td>\n",
       "      <td>11</td>\n",
       "    </tr>\n",
       "    <tr>\n",
       "      <th>1</th>\n",
       "      <td>FDQ15</td>\n",
       "      <td>Meat</td>\n",
       "      <td>81.727600</td>\n",
       "      <td>OUT049</td>\n",
       "      <td>Tier 1</td>\n",
       "      <td>Supermarket</td>\n",
       "      <td>2030.690000</td>\n",
       "      <td>24</td>\n",
       "    </tr>\n",
       "    <tr>\n",
       "      <th>2</th>\n",
       "      <td>NCC54</td>\n",
       "      <td>Health and Hygiene</td>\n",
       "      <td>242.419600</td>\n",
       "      <td>OUT035</td>\n",
       "      <td>Tier 2</td>\n",
       "      <td>Supermarket</td>\n",
       "      <td>5543.450800</td>\n",
       "      <td>22</td>\n",
       "    </tr>\n",
       "    <tr>\n",
       "      <th>3</th>\n",
       "      <td>FDH41</td>\n",
       "      <td>Frozen Foods</td>\n",
       "      <td>214.553400</td>\n",
       "      <td>OUT013</td>\n",
       "      <td>Tier 3</td>\n",
       "      <td>Supermarket</td>\n",
       "      <td>3440.854400</td>\n",
       "      <td>16</td>\n",
       "    </tr>\n",
       "    <tr>\n",
       "      <th>4</th>\n",
       "      <td>NCB54</td>\n",
       "      <td>Health and Hygiene</td>\n",
       "      <td>126.233600</td>\n",
       "      <td>OUT017</td>\n",
       "      <td>Tier 2</td>\n",
       "      <td>Supermarket</td>\n",
       "      <td>1406.169600</td>\n",
       "      <td>11</td>\n",
       "    </tr>\n",
       "  </tbody>\n",
       "</table>\n",
       "</div>"
      ],
      "text/plain": [
       "  Item_Identifier           Item_Type   Item_MRP Outlet_Identifier  \\\n",
       "0           FDB38              Canned 158.992000            OUT046   \n",
       "1           FDQ15                Meat  81.727600            OUT049   \n",
       "2           NCC54  Health and Hygiene 242.419600            OUT035   \n",
       "3           FDH41        Frozen Foods 214.553400            OUT013   \n",
       "4           NCB54  Health and Hygiene 126.233600            OUT017   \n",
       "\n",
       "  Outlet_Location_Type  Outlet_Type  Item_Outlet_Sales  Number_Item  \n",
       "0               Tier 1  Supermarket        1757.712000           11  \n",
       "1               Tier 1  Supermarket        2030.690000           24  \n",
       "2               Tier 2  Supermarket        5543.450800           22  \n",
       "3               Tier 3  Supermarket        3440.854400           16  \n",
       "4               Tier 2  Supermarket        1406.169600           11  "
      ]
     },
     "execution_count": 667,
     "metadata": {},
     "output_type": "execute_result"
    }
   ],
   "source": [
    "data.head()"
   ]
  },
  {
   "cell_type": "code",
   "execution_count": null,
   "metadata": {},
   "outputs": [],
   "source": []
  },
  {
   "cell_type": "markdown",
   "metadata": {},
   "source": [
    "# Data Encoding"
   ]
  },
  {
   "cell_type": "code",
   "execution_count": 668,
   "metadata": {},
   "outputs": [],
   "source": [
    "#fixing 'Outlet_Identifier' column"
   ]
  },
  {
   "cell_type": "code",
   "execution_count": 669,
   "metadata": {},
   "outputs": [
    {
     "data": {
      "text/plain": [
       "array(['OUT046', 'OUT049', 'OUT035', 'OUT013', 'OUT017', 'OUT045',\n",
       "       'OUT019', 'OUT018', 'OUT010', 'OUT027'], dtype=object)"
      ]
     },
     "execution_count": 669,
     "metadata": {},
     "output_type": "execute_result"
    }
   ],
   "source": [
    "data['Outlet_Identifier'].unique()"
   ]
  },
  {
   "cell_type": "markdown",
   "metadata": {},
   "source": [
    "every outlet identifier have same 4 chacracter('Out0'). \n",
    "That is meaning nothing, for this I have taken only interger number, those are unique.\n"
   ]
  },
  {
   "cell_type": "code",
   "execution_count": 670,
   "metadata": {},
   "outputs": [],
   "source": [
    "data['Outlet_Identifier'] = data['Outlet_Identifier'].str.replace('OUT0','')\n",
    "data['Outlet_Identifier'] = data['Outlet_Identifier'].astype(int)"
   ]
  },
  {
   "cell_type": "code",
   "execution_count": 671,
   "metadata": {},
   "outputs": [
    {
     "data": {
      "text/plain": [
       "array([46, 49, 35, 13, 17, 45, 19, 18, 10, 27])"
      ]
     },
     "execution_count": 671,
     "metadata": {},
     "output_type": "execute_result"
    }
   ],
   "source": [
    "data['Outlet_Identifier'].unique()"
   ]
  },
  {
   "cell_type": "code",
   "execution_count": null,
   "metadata": {},
   "outputs": [],
   "source": []
  },
  {
   "cell_type": "code",
   "execution_count": 672,
   "metadata": {},
   "outputs": [],
   "source": [
    "#from categorical to numerical using get_dummies()"
   ]
  },
  {
   "cell_type": "code",
   "execution_count": 673,
   "metadata": {},
   "outputs": [],
   "source": [
    "Item_Identifier__dummy = pd.get_dummies(data['Item_Identifier'])\n",
    "Item_Type__dummy = pd.get_dummies(data['Item_Type'])\n",
    "outlet_location__dummy = pd.get_dummies(data['Outlet_Location_Type'])\n",
    "Outlet_Type__dummy = pd.get_dummies(data['Outlet_Type'])"
   ]
  },
  {
   "cell_type": "code",
   "execution_count": null,
   "metadata": {},
   "outputs": [],
   "source": []
  },
  {
   "cell_type": "code",
   "execution_count": 674,
   "metadata": {},
   "outputs": [],
   "source": [
    "#adding dummies data "
   ]
  },
  {
   "cell_type": "code",
   "execution_count": 675,
   "metadata": {},
   "outputs": [],
   "source": [
    "data = pd.concat([data, Item_Identifier__dummy, Item_Type__dummy, outlet_location__dummy, Outlet_Type__dummy], axis=1)"
   ]
  },
  {
   "cell_type": "code",
   "execution_count": 676,
   "metadata": {},
   "outputs": [
    {
     "data": {
      "text/html": [
       "<div>\n",
       "<style scoped>\n",
       "    .dataframe tbody tr th:only-of-type {\n",
       "        vertical-align: middle;\n",
       "    }\n",
       "\n",
       "    .dataframe tbody tr th {\n",
       "        vertical-align: top;\n",
       "    }\n",
       "\n",
       "    .dataframe thead th {\n",
       "        text-align: right;\n",
       "    }\n",
       "</style>\n",
       "<table border=\"1\" class=\"dataframe\">\n",
       "  <thead>\n",
       "    <tr style=\"text-align: right;\">\n",
       "      <th></th>\n",
       "      <th>Item_Identifier</th>\n",
       "      <th>Item_Type</th>\n",
       "      <th>Item_MRP</th>\n",
       "      <th>Outlet_Identifier</th>\n",
       "      <th>Outlet_Location_Type</th>\n",
       "      <th>Outlet_Type</th>\n",
       "      <th>Item_Outlet_Sales</th>\n",
       "      <th>Number_Item</th>\n",
       "      <th>DRA12</th>\n",
       "      <th>DRA24</th>\n",
       "      <th>...</th>\n",
       "      <th>Others</th>\n",
       "      <th>Seafood</th>\n",
       "      <th>Snack Foods</th>\n",
       "      <th>Soft Drinks</th>\n",
       "      <th>Starchy Foods</th>\n",
       "      <th>Tier 1</th>\n",
       "      <th>Tier 2</th>\n",
       "      <th>Tier 3</th>\n",
       "      <th>Grocery Store</th>\n",
       "      <th>Supermarket</th>\n",
       "    </tr>\n",
       "  </thead>\n",
       "  <tbody>\n",
       "    <tr>\n",
       "      <th>0</th>\n",
       "      <td>FDB38</td>\n",
       "      <td>Canned</td>\n",
       "      <td>158.992000</td>\n",
       "      <td>46</td>\n",
       "      <td>Tier 1</td>\n",
       "      <td>Supermarket</td>\n",
       "      <td>1757.712000</td>\n",
       "      <td>11</td>\n",
       "      <td>0</td>\n",
       "      <td>0</td>\n",
       "      <td>...</td>\n",
       "      <td>0</td>\n",
       "      <td>0</td>\n",
       "      <td>0</td>\n",
       "      <td>0</td>\n",
       "      <td>0</td>\n",
       "      <td>1</td>\n",
       "      <td>0</td>\n",
       "      <td>0</td>\n",
       "      <td>0</td>\n",
       "      <td>1</td>\n",
       "    </tr>\n",
       "    <tr>\n",
       "      <th>1</th>\n",
       "      <td>FDQ15</td>\n",
       "      <td>Meat</td>\n",
       "      <td>81.727600</td>\n",
       "      <td>49</td>\n",
       "      <td>Tier 1</td>\n",
       "      <td>Supermarket</td>\n",
       "      <td>2030.690000</td>\n",
       "      <td>24</td>\n",
       "      <td>0</td>\n",
       "      <td>0</td>\n",
       "      <td>...</td>\n",
       "      <td>0</td>\n",
       "      <td>0</td>\n",
       "      <td>0</td>\n",
       "      <td>0</td>\n",
       "      <td>0</td>\n",
       "      <td>1</td>\n",
       "      <td>0</td>\n",
       "      <td>0</td>\n",
       "      <td>0</td>\n",
       "      <td>1</td>\n",
       "    </tr>\n",
       "    <tr>\n",
       "      <th>2</th>\n",
       "      <td>NCC54</td>\n",
       "      <td>Health and Hygiene</td>\n",
       "      <td>242.419600</td>\n",
       "      <td>35</td>\n",
       "      <td>Tier 2</td>\n",
       "      <td>Supermarket</td>\n",
       "      <td>5543.450800</td>\n",
       "      <td>22</td>\n",
       "      <td>0</td>\n",
       "      <td>0</td>\n",
       "      <td>...</td>\n",
       "      <td>0</td>\n",
       "      <td>0</td>\n",
       "      <td>0</td>\n",
       "      <td>0</td>\n",
       "      <td>0</td>\n",
       "      <td>0</td>\n",
       "      <td>1</td>\n",
       "      <td>0</td>\n",
       "      <td>0</td>\n",
       "      <td>1</td>\n",
       "    </tr>\n",
       "    <tr>\n",
       "      <th>3</th>\n",
       "      <td>FDH41</td>\n",
       "      <td>Frozen Foods</td>\n",
       "      <td>214.553400</td>\n",
       "      <td>13</td>\n",
       "      <td>Tier 3</td>\n",
       "      <td>Supermarket</td>\n",
       "      <td>3440.854400</td>\n",
       "      <td>16</td>\n",
       "      <td>0</td>\n",
       "      <td>0</td>\n",
       "      <td>...</td>\n",
       "      <td>0</td>\n",
       "      <td>0</td>\n",
       "      <td>0</td>\n",
       "      <td>0</td>\n",
       "      <td>0</td>\n",
       "      <td>0</td>\n",
       "      <td>0</td>\n",
       "      <td>1</td>\n",
       "      <td>0</td>\n",
       "      <td>1</td>\n",
       "    </tr>\n",
       "    <tr>\n",
       "      <th>4</th>\n",
       "      <td>NCB54</td>\n",
       "      <td>Health and Hygiene</td>\n",
       "      <td>126.233600</td>\n",
       "      <td>17</td>\n",
       "      <td>Tier 2</td>\n",
       "      <td>Supermarket</td>\n",
       "      <td>1406.169600</td>\n",
       "      <td>11</td>\n",
       "      <td>0</td>\n",
       "      <td>0</td>\n",
       "      <td>...</td>\n",
       "      <td>0</td>\n",
       "      <td>0</td>\n",
       "      <td>0</td>\n",
       "      <td>0</td>\n",
       "      <td>0</td>\n",
       "      <td>0</td>\n",
       "      <td>1</td>\n",
       "      <td>0</td>\n",
       "      <td>0</td>\n",
       "      <td>1</td>\n",
       "    </tr>\n",
       "  </tbody>\n",
       "</table>\n",
       "<p>5 rows × 1227 columns</p>\n",
       "</div>"
      ],
      "text/plain": [
       "  Item_Identifier           Item_Type   Item_MRP  Outlet_Identifier  \\\n",
       "0           FDB38              Canned 158.992000                 46   \n",
       "1           FDQ15                Meat  81.727600                 49   \n",
       "2           NCC54  Health and Hygiene 242.419600                 35   \n",
       "3           FDH41        Frozen Foods 214.553400                 13   \n",
       "4           NCB54  Health and Hygiene 126.233600                 17   \n",
       "\n",
       "  Outlet_Location_Type  Outlet_Type  Item_Outlet_Sales  Number_Item  DRA12  \\\n",
       "0               Tier 1  Supermarket        1757.712000           11      0   \n",
       "1               Tier 1  Supermarket        2030.690000           24      0   \n",
       "2               Tier 2  Supermarket        5543.450800           22      0   \n",
       "3               Tier 3  Supermarket        3440.854400           16      0   \n",
       "4               Tier 2  Supermarket        1406.169600           11      0   \n",
       "\n",
       "   DRA24  ...  Others  Seafood  Snack Foods  Soft Drinks  Starchy Foods  \\\n",
       "0      0  ...       0        0            0            0              0   \n",
       "1      0  ...       0        0            0            0              0   \n",
       "2      0  ...       0        0            0            0              0   \n",
       "3      0  ...       0        0            0            0              0   \n",
       "4      0  ...       0        0            0            0              0   \n",
       "\n",
       "   Tier 1  Tier 2  Tier 3  Grocery Store  Supermarket  \n",
       "0       1       0       0              0            1  \n",
       "1       1       0       0              0            1  \n",
       "2       0       1       0              0            1  \n",
       "3       0       0       1              0            1  \n",
       "4       0       1       0              0            1  \n",
       "\n",
       "[5 rows x 1227 columns]"
      ]
     },
     "execution_count": 676,
     "metadata": {},
     "output_type": "execute_result"
    }
   ],
   "source": [
    "data.head()"
   ]
  },
  {
   "cell_type": "code",
   "execution_count": null,
   "metadata": {},
   "outputs": [],
   "source": []
  },
  {
   "cell_type": "code",
   "execution_count": 677,
   "metadata": {},
   "outputs": [],
   "source": [
    "#dividing dataset into feature and label data"
   ]
  },
  {
   "cell_type": "code",
   "execution_count": 678,
   "metadata": {},
   "outputs": [],
   "source": [
    "X = data.drop(['Item_Identifier','Item_Type','Outlet_Location_Type', 'Outlet_Type','Item_Outlet_Sales'], axis=1)\n",
    "y = data['Item_Outlet_Sales']"
   ]
  },
  {
   "cell_type": "code",
   "execution_count": 679,
   "metadata": {},
   "outputs": [
    {
     "data": {
      "text/html": [
       "<div>\n",
       "<style scoped>\n",
       "    .dataframe tbody tr th:only-of-type {\n",
       "        vertical-align: middle;\n",
       "    }\n",
       "\n",
       "    .dataframe tbody tr th {\n",
       "        vertical-align: top;\n",
       "    }\n",
       "\n",
       "    .dataframe thead th {\n",
       "        text-align: right;\n",
       "    }\n",
       "</style>\n",
       "<table border=\"1\" class=\"dataframe\">\n",
       "  <thead>\n",
       "    <tr style=\"text-align: right;\">\n",
       "      <th></th>\n",
       "      <th>Item_MRP</th>\n",
       "      <th>Outlet_Identifier</th>\n",
       "      <th>Number_Item</th>\n",
       "      <th>DRA12</th>\n",
       "      <th>DRA24</th>\n",
       "      <th>DRA59</th>\n",
       "      <th>DRB01</th>\n",
       "      <th>DRB13</th>\n",
       "      <th>DRB24</th>\n",
       "      <th>DRB25</th>\n",
       "      <th>...</th>\n",
       "      <th>Others</th>\n",
       "      <th>Seafood</th>\n",
       "      <th>Snack Foods</th>\n",
       "      <th>Soft Drinks</th>\n",
       "      <th>Starchy Foods</th>\n",
       "      <th>Tier 1</th>\n",
       "      <th>Tier 2</th>\n",
       "      <th>Tier 3</th>\n",
       "      <th>Grocery Store</th>\n",
       "      <th>Supermarket</th>\n",
       "    </tr>\n",
       "  </thead>\n",
       "  <tbody>\n",
       "    <tr>\n",
       "      <th>0</th>\n",
       "      <td>158.992000</td>\n",
       "      <td>46</td>\n",
       "      <td>11</td>\n",
       "      <td>0</td>\n",
       "      <td>0</td>\n",
       "      <td>0</td>\n",
       "      <td>0</td>\n",
       "      <td>0</td>\n",
       "      <td>0</td>\n",
       "      <td>0</td>\n",
       "      <td>...</td>\n",
       "      <td>0</td>\n",
       "      <td>0</td>\n",
       "      <td>0</td>\n",
       "      <td>0</td>\n",
       "      <td>0</td>\n",
       "      <td>1</td>\n",
       "      <td>0</td>\n",
       "      <td>0</td>\n",
       "      <td>0</td>\n",
       "      <td>1</td>\n",
       "    </tr>\n",
       "    <tr>\n",
       "      <th>1</th>\n",
       "      <td>81.727600</td>\n",
       "      <td>49</td>\n",
       "      <td>24</td>\n",
       "      <td>0</td>\n",
       "      <td>0</td>\n",
       "      <td>0</td>\n",
       "      <td>0</td>\n",
       "      <td>0</td>\n",
       "      <td>0</td>\n",
       "      <td>0</td>\n",
       "      <td>...</td>\n",
       "      <td>0</td>\n",
       "      <td>0</td>\n",
       "      <td>0</td>\n",
       "      <td>0</td>\n",
       "      <td>0</td>\n",
       "      <td>1</td>\n",
       "      <td>0</td>\n",
       "      <td>0</td>\n",
       "      <td>0</td>\n",
       "      <td>1</td>\n",
       "    </tr>\n",
       "    <tr>\n",
       "      <th>2</th>\n",
       "      <td>242.419600</td>\n",
       "      <td>35</td>\n",
       "      <td>22</td>\n",
       "      <td>0</td>\n",
       "      <td>0</td>\n",
       "      <td>0</td>\n",
       "      <td>0</td>\n",
       "      <td>0</td>\n",
       "      <td>0</td>\n",
       "      <td>0</td>\n",
       "      <td>...</td>\n",
       "      <td>0</td>\n",
       "      <td>0</td>\n",
       "      <td>0</td>\n",
       "      <td>0</td>\n",
       "      <td>0</td>\n",
       "      <td>0</td>\n",
       "      <td>1</td>\n",
       "      <td>0</td>\n",
       "      <td>0</td>\n",
       "      <td>1</td>\n",
       "    </tr>\n",
       "    <tr>\n",
       "      <th>3</th>\n",
       "      <td>214.553400</td>\n",
       "      <td>13</td>\n",
       "      <td>16</td>\n",
       "      <td>0</td>\n",
       "      <td>0</td>\n",
       "      <td>0</td>\n",
       "      <td>0</td>\n",
       "      <td>0</td>\n",
       "      <td>0</td>\n",
       "      <td>0</td>\n",
       "      <td>...</td>\n",
       "      <td>0</td>\n",
       "      <td>0</td>\n",
       "      <td>0</td>\n",
       "      <td>0</td>\n",
       "      <td>0</td>\n",
       "      <td>0</td>\n",
       "      <td>0</td>\n",
       "      <td>1</td>\n",
       "      <td>0</td>\n",
       "      <td>1</td>\n",
       "    </tr>\n",
       "    <tr>\n",
       "      <th>4</th>\n",
       "      <td>126.233600</td>\n",
       "      <td>17</td>\n",
       "      <td>11</td>\n",
       "      <td>0</td>\n",
       "      <td>0</td>\n",
       "      <td>0</td>\n",
       "      <td>0</td>\n",
       "      <td>0</td>\n",
       "      <td>0</td>\n",
       "      <td>0</td>\n",
       "      <td>...</td>\n",
       "      <td>0</td>\n",
       "      <td>0</td>\n",
       "      <td>0</td>\n",
       "      <td>0</td>\n",
       "      <td>0</td>\n",
       "      <td>0</td>\n",
       "      <td>1</td>\n",
       "      <td>0</td>\n",
       "      <td>0</td>\n",
       "      <td>1</td>\n",
       "    </tr>\n",
       "  </tbody>\n",
       "</table>\n",
       "<p>5 rows × 1222 columns</p>\n",
       "</div>"
      ],
      "text/plain": [
       "    Item_MRP  Outlet_Identifier  Number_Item  DRA12  DRA24  DRA59  DRB01  \\\n",
       "0 158.992000                 46           11      0      0      0      0   \n",
       "1  81.727600                 49           24      0      0      0      0   \n",
       "2 242.419600                 35           22      0      0      0      0   \n",
       "3 214.553400                 13           16      0      0      0      0   \n",
       "4 126.233600                 17           11      0      0      0      0   \n",
       "\n",
       "   DRB13  DRB24  DRB25  ...  Others  Seafood  Snack Foods  Soft Drinks  \\\n",
       "0      0      0      0  ...       0        0            0            0   \n",
       "1      0      0      0  ...       0        0            0            0   \n",
       "2      0      0      0  ...       0        0            0            0   \n",
       "3      0      0      0  ...       0        0            0            0   \n",
       "4      0      0      0  ...       0        0            0            0   \n",
       "\n",
       "   Starchy Foods  Tier 1  Tier 2  Tier 3  Grocery Store  Supermarket  \n",
       "0              0       1       0       0              0            1  \n",
       "1              0       1       0       0              0            1  \n",
       "2              0       0       1       0              0            1  \n",
       "3              0       0       0       1              0            1  \n",
       "4              0       0       1       0              0            1  \n",
       "\n",
       "[5 rows x 1222 columns]"
      ]
     },
     "execution_count": 679,
     "metadata": {},
     "output_type": "execute_result"
    }
   ],
   "source": [
    "#feature data\n",
    "X.head()"
   ]
  },
  {
   "cell_type": "code",
   "execution_count": null,
   "metadata": {},
   "outputs": [],
   "source": []
  },
  {
   "cell_type": "code",
   "execution_count": null,
   "metadata": {},
   "outputs": [],
   "source": []
  },
  {
   "cell_type": "code",
   "execution_count": 680,
   "metadata": {},
   "outputs": [],
   "source": [
    "#dividing feature and label data for training and testing\n",
    "Xtrain,xtest, Ytrain,ytest = train_test_split(X,y, test_size=.2, random_state=0)"
   ]
  },
  {
   "cell_type": "code",
   "execution_count": null,
   "metadata": {},
   "outputs": [],
   "source": []
  },
  {
   "cell_type": "code",
   "execution_count": 681,
   "metadata": {},
   "outputs": [
    {
     "data": {
      "text/plain": [
       "Text(0, 0.5, 'scores')"
      ]
     },
     "execution_count": 681,
     "metadata": {},
     "output_type": "execute_result"
    },
    {
     "data": {
      "image/png": "[encoded data removed]",
      "text/plain": [
       "<Figure size 432x288 with 1 Axes>"
      ]
     },
     "metadata": {
      "needs_background": "light"
     },
     "output_type": "display_data"
    }
   ],
   "source": [
    "#checking with different n_estimator\n",
    "n_estimator = [80,90,100,120,130,140,150]\n",
    "scores = []\n",
    "\n",
    "for i in n_estimator:\n",
    "    algorithm = RandomForestRegressor(n_estimators=i)\n",
    "    algorithm.fit(Xtrain,Ytrain)\n",
    "    score = algorithm.score(xtest,ytest)\n",
    "    scores.append(score)\n",
    "    \n",
    "plt.plot(n_estimator, scores)\n",
    "plt.xlabel(\"number of estimators\")\n",
    "plt.ylabel('scores')\n",
    "    \n"
   ]
  },
  {
   "cell_type": "code",
   "execution_count": 682,
   "metadata": {},
   "outputs": [
    {
     "data": {
      "text/plain": [
       "RandomForestRegressor(bootstrap=True, criterion='mse', max_depth=None,\n",
       "                      max_features='auto', max_leaf_nodes=None,\n",
       "                      min_impurity_decrease=0.0, min_impurity_split=None,\n",
       "                      min_samples_leaf=1, min_samples_split=2,\n",
       "                      min_weight_fraction_leaf=0.0, n_estimators=120,\n",
       "                      n_jobs=None, oob_score=False, random_state=42, verbose=0,\n",
       "                      warm_start=False)"
      ]
     },
     "execution_count": 682,
     "metadata": {},
     "output_type": "execute_result"
    }
   ],
   "source": [
    "lr = RandomForestRegressor(n_estimators=120, random_state=42 )\n",
    "lr.fit(Xtrain,Ytrain)"
   ]
  },
  {
   "cell_type": "code",
   "execution_count": 683,
   "metadata": {},
   "outputs": [],
   "source": [
    "predict = lr.predict(xtest)"
   ]
  },
  {
   "cell_type": "code",
   "execution_count": 684,
   "metadata": {},
   "outputs": [
    {
     "data": {
      "text/plain": [
       "0.9966134678799012"
      ]
     },
     "execution_count": 684,
     "metadata": {},
     "output_type": "execute_result"
    }
   ],
   "source": [
    "lr.score(xtest,ytest)"
   ]
  },
  {
   "cell_type": "code",
   "execution_count": null,
   "metadata": {},
   "outputs": [],
   "source": []
  },
  {
   "cell_type": "markdown",
   "metadata": {},
   "source": [
    "scores by cross_val_score"
   ]
  },
  {
   "cell_type": "code",
   "execution_count": 685,
   "metadata": {},
   "outputs": [
    {
     "data": {
      "text/plain": [
       "array([0.9964915 , 0.99694082, 0.99719834, 0.99683938, 0.99662643])"
      ]
     },
     "execution_count": 685,
     "metadata": {},
     "output_type": "execute_result"
    }
   ],
   "source": [
    "acc = cross_val_score(lr, X,y, cv=5)\n",
    "acc"
   ]
  },
  {
   "cell_type": "code",
   "execution_count": 686,
   "metadata": {},
   "outputs": [
    {
     "data": {
      "text/plain": [
       "0.9968192938598037"
      ]
     },
     "execution_count": 686,
     "metadata": {},
     "output_type": "execute_result"
    }
   ],
   "source": [
    "acc.mean()"
   ]
  },
  {
   "cell_type": "code",
   "execution_count": null,
   "metadata": {},
   "outputs": [],
   "source": []
  },
  {
   "cell_type": "markdown",
   "metadata": {},
   "source": [
    "# Predicting outlet_sales"
   ]
  },
  {
   "cell_type": "code",
   "execution_count": 689,
   "metadata": {},
   "outputs": [],
   "source": [
    "def predicting_function(Item_MRP, Outlet_Identifier, Number_Item, item_identifier, item_type, outlet_location, outlet_type):\n",
    "    item_identifier_loc = np.where(item_identifier==X.columns)[0][0]\n",
    "    item_type_loc = np.where(item_type==X.columns)[0][0]\n",
    "    outlet_location_loc = np.where(outlet_location==X.columns)[0][0]\n",
    "    outlet_type_loc = np.where(outlet_type==X.columns)[0][0]\n",
    "    \n",
    "    x = np.zeros(len(X.columns))\n",
    "    x[0]=Item_MRP\n",
    "    x[1]=Outlet_Identifier\n",
    "    x[2]=Number_Item\n",
    "    \n",
    "    if item_identifier_loc>=0 and item_type_loc>=0 and outlet_location_loc>=0 and outlet_type_loc>=0:\n",
    "        x[item_identifier_loc]=1\n",
    "        x[item_type_loc]=1\n",
    "        x[outlet_location_loc]=1\n",
    "        x[outlet_type_loc]=1\n",
    "    return lr.predict([x])"
   ]
  },
  {
   "cell_type": "code",
   "execution_count": 690,
   "metadata": {},
   "outputs": [
    {
     "data": {
      "text/plain": [
       "array([3798.36125833])"
      ]
     },
     "execution_count": 690,
     "metadata": {},
     "output_type": "execute_result"
    }
   ],
   "source": [
    "predicting_function(220,46, 17, 'FDK60','Baking Goods','Tier 3','Supermarket')"
   ]
  },
  {
   "cell_type": "code",
   "execution_count": null,
   "metadata": {},
   "outputs": [],
   "source": []
  }
 ],
 "metadata": {
  "kernelspec": {
   "display_name": "Python 3",
   "language": "python",
   "name": "python3"
  },
  "language_info": {
   "codemirror_mode": {
    "name": "ipython",
    "version": 3
   },
   "file_extension": ".py",
   "mimetype": "text/x-python",
   "name": "python",
   "nbconvert_exporter": "python",
   "pygments_lexer": "ipython3",
   "version": "3.7.5"
  }
 },
 "nbformat": 4,
 "nbformat_minor": 2
}
